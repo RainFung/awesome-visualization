{
 "cells": [
  {
   "cell_type": "markdown",
   "metadata": {},
   "source": [
    "# Introduction"
   ]
  },
  {
   "cell_type": "markdown",
   "metadata": {},
   "source": [
    "哈罗，各位 ~ 本文对[安泰杯 —— 跨境电商智能算法大赛](https://tianchi.aliyun.com/competition/entrance/231718/information)数据进行了初探与可视化处理，便于各位更为直观理解赛题数据与建模目标。\n",
    "\n",
    "    \n",
    "[赛题目标](https://tianchi.aliyun.com/competition/entrance/231718/introduction)：通过用户历史订单数据，预测用户下一次购买的商品。\n",
    "\n",
    "[赛题数据](https://tianchi.aliyun.com/competition/entrance/231718/information)：数据保存为四个文件中，训练数据(Antai_AE_round1_train_20190626.csv)、测试数据(Antai_AE_round1_test_20190626.csv)、商品信息(Antai_AE_round1_item_attr_20190626.csv)、提交示例(Antai_AE_round1_submit_20190715.csv)\n",
    "\n",
    "1. 训练数据：用户每次购买的商品id，订单日期以及用户国家标识\n",
    "\n",
    "2. 测试数据：较于训练数据，测试数据剔除了用户需要预测最后一次购买记录\n",
    "\n",
    "3. 商品信息：商品id、品类id、店铺id和商品价格\n",
    "\n",
    "4. 提交示例：预测用户购买商品Top30的item_id依概率从高到低排序，buyer_admin_id,predict 1,predict 2,…,predict 30\n",
    "\n",
    "\n",
    "代码运行环境：\n",
    "    \n",
    "    JupyterLab\n",
    "    Python 3.5\n",
    "    Pandas 0.24.2\n",
    "    matplotlib 3.0.2\n",
    "    seaborn 0.9.0"
   ]
  },
  {
   "cell_type": "markdown",
   "metadata": {},
   "source": [
    "## 载入数据分析库包"
   ]
  },
  {
   "cell_type": "code",
   "execution_count": 1,
   "metadata": {},
   "outputs": [],
   "source": [
    "import pandas as pd \n",
    "import numpy as np \n",
    "import matplotlib.pyplot as plt \n",
    "import seaborn as sns \n",
    "import gc\n",
    "%matplotlib inline\n",
    "# 禁用科学计数法\n",
    "pd.set_option('display.float_format',lambda x : '%.2f' % x)"
   ]
  },
  {
   "cell_type": "markdown",
   "metadata": {},
   "source": [
    "## 读取数据"
   ]
  },
  {
   "cell_type": "code",
   "execution_count": 2,
   "metadata": {},
   "outputs": [],
   "source": [
    "item = pd.read_csv('../data/Antai_AE_round1_item_attr_20190626.csv')\n",
    "train = pd.read_csv('../data/Antai_AE_round1_train_20190626.csv')\n",
    "test = pd.read_csv('../data/Antai_AE_round1_test_20190626.csv')\n",
    "submit = pd.read_csv('../data/Antai_AE_round1_submit_20190715.csv')"
   ]
  },
  {
   "cell_type": "markdown",
   "metadata": {},
   "source": [
    "### 数据预处理\n",
    "* 合并train和test文件\n",
    "* 提取日期年月日等信息\n",
    "* 关联商品价格、品类、店铺\n",
    "* 转化每列数据类型为可存储的最小值，减少内存消耗\n",
    "* 保存为hdf5格式文件，加速读取"
   ]
  },
  {
   "cell_type": "code",
   "execution_count": 3,
   "metadata": {},
   "outputs": [],
   "source": [
    "df = pd.concat([train.assign(is_train=1), test.assign(is_train=0)])\n",
    "\n",
    "df['create_order_time'] = pd.to_datetime(df['create_order_time'])\n",
    "df['date'] = df['create_order_time'].dt.date\n",
    "df['day'] = df['create_order_time'].dt.day\n",
    "df['hour'] = df['create_order_time'].dt.hour\n",
    "\n",
    "df = pd.merge(df, item, how='left', on='item_id')"
   ]
  },
  {
   "cell_type": "code",
   "execution_count": 4,
   "metadata": {},
   "outputs": [
    {
     "name": "stdout",
     "output_type": "stream",
     "text": [
      "Before memory usage of properties dataframe is : 1292.8728713989258  MB\n",
      "After memory usage of properties dataframe is : 696.1623153686523  MB\n"
     ]
    },
    {
     "data": {
      "text/plain": [
       "22"
      ]
     },
     "execution_count": 4,
     "metadata": {},
     "output_type": "execute_result"
    }
   ],
   "source": [
    "memory = df.memory_usage().sum() / 1024**2 \n",
    "print('Before memory usage of properties dataframe is :', memory, \" MB\")\n",
    "\n",
    "dtype_dict = {'buyer_admin_id' : 'int32', \n",
    "              'item_id' : 'int32', \n",
    "              'store_id' : pd.Int32Dtype(),\n",
    "              'irank' : 'int16',\n",
    "              'item_price' : pd.Int16Dtype(),\n",
    "              'cate_id' : pd.Int16Dtype(),\n",
    "              'is_train' : 'int8',\n",
    "              'day' : 'int8',\n",
    "              'hour' : 'int8',\n",
    "             }\n",
    "\n",
    "df = df.astype(dtype_dict)\n",
    "memory = df.memory_usage().sum() / 1024**2 \n",
    "print('After memory usage of properties dataframe is :', memory, \" MB\")\n",
    "del train,test; gc.collect()"
   ]
  },
  {
   "cell_type": "code",
   "execution_count": 5,
   "metadata": {},
   "outputs": [],
   "source": [
    "for col in ['store_id', 'item_price', 'cate_id']:\n",
    "    df[col] = df[col].fillna(0).astype(np.int32).replace(0, np.nan)\n",
    "df.to_hdf('../data/train_test.h5', '1.0')"
   ]
  },
  {
   "cell_type": "code",
   "execution_count": 6,
   "metadata": {},
   "outputs": [
    {
     "name": "stdout",
     "output_type": "stream",
     "text": [
      "CPU times: user 3.55 s, sys: 2.91 s, total: 6.46 s\n",
      "Wall time: 6.46 s\n"
     ]
    }
   ],
   "source": [
    "%%time\n",
    "df = pd.read_hdf('../data/train_test.h5', '1.0')"
   ]
  },
  {
   "cell_type": "code",
   "execution_count": 7,
   "metadata": {},
   "outputs": [
    {
     "name": "stdout",
     "output_type": "stream",
     "text": [
      "CPU times: user 13.3 s, sys: 1.29 s, total: 14.6 s\n",
      "Wall time: 14.6 s\n"
     ]
    }
   ],
   "source": [
    "%%time\n",
    "train = pd.read_csv('../data/Antai_AE_round1_train_20190626.csv')\n",
    "test = pd.read_csv('../data/Antai_AE_round1_test_20190626.csv')\n",
    "item = pd.read_csv('../data/Antai_AE_round1_item_attr_20190626.csv')\n",
    "del train, test; gc.collect()"
   ]
  },
  {
   "cell_type": "markdown",
   "metadata": {},
   "source": [
    "经过前处理后:\n",
    "* 文件内存占用从1200M减少至600M\n",
    "* 采用hdf5格式存储，读取时间从15秒减少到仅需5秒"
   ]
  },
  {
   "cell_type": "markdown",
   "metadata": {},
   "source": [
    "# Overview: 数据内容"
   ]
  },
  {
   "cell_type": "code",
   "execution_count": 8,
   "metadata": {},
   "outputs": [
    {
     "data": {
      "text/html": [
       "<div>\n",
       "<style scoped>\n",
       "    .dataframe tbody tr th:only-of-type {\n",
       "        vertical-align: middle;\n",
       "    }\n",
       "\n",
       "    .dataframe tbody tr th {\n",
       "        vertical-align: top;\n",
       "    }\n",
       "\n",
       "    .dataframe thead th {\n",
       "        text-align: right;\n",
       "    }\n",
       "</style>\n",
       "<table border=\"1\" class=\"dataframe\">\n",
       "  <thead>\n",
       "    <tr style=\"text-align: right;\">\n",
       "      <th></th>\n",
       "      <th>buyer_country_id</th>\n",
       "      <th>buyer_admin_id</th>\n",
       "      <th>item_id</th>\n",
       "      <th>create_order_time</th>\n",
       "      <th>irank</th>\n",
       "      <th>is_train</th>\n",
       "      <th>date</th>\n",
       "      <th>day</th>\n",
       "      <th>hour</th>\n",
       "      <th>cate_id</th>\n",
       "      <th>store_id</th>\n",
       "      <th>item_price</th>\n",
       "    </tr>\n",
       "  </thead>\n",
       "  <tbody>\n",
       "    <tr>\n",
       "      <th>0</th>\n",
       "      <td>xx</td>\n",
       "      <td>8362078</td>\n",
       "      <td>1</td>\n",
       "      <td>2018-08-10 23:49:44</td>\n",
       "      <td>12</td>\n",
       "      <td>1</td>\n",
       "      <td>2018-08-10</td>\n",
       "      <td>10</td>\n",
       "      <td>23</td>\n",
       "      <td>2324.00</td>\n",
       "      <td>10013.00</td>\n",
       "      <td>4501.00</td>\n",
       "    </tr>\n",
       "    <tr>\n",
       "      <th>1</th>\n",
       "      <td>xx</td>\n",
       "      <td>9694304</td>\n",
       "      <td>2</td>\n",
       "      <td>2018-08-03 23:55:07</td>\n",
       "      <td>9</td>\n",
       "      <td>1</td>\n",
       "      <td>2018-08-03</td>\n",
       "      <td>3</td>\n",
       "      <td>23</td>\n",
       "      <td>3882.00</td>\n",
       "      <td>4485.00</td>\n",
       "      <td>2751.00</td>\n",
       "    </tr>\n",
       "    <tr>\n",
       "      <th>2</th>\n",
       "      <td>yy</td>\n",
       "      <td>101887</td>\n",
       "      <td>3</td>\n",
       "      <td>2018-08-27 08:31:26</td>\n",
       "      <td>3</td>\n",
       "      <td>1</td>\n",
       "      <td>2018-08-27</td>\n",
       "      <td>27</td>\n",
       "      <td>8</td>\n",
       "      <td>155.00</td>\n",
       "      <td>8341.00</td>\n",
       "      <td>656.00</td>\n",
       "    </tr>\n",
       "    <tr>\n",
       "      <th>3</th>\n",
       "      <td>xx</td>\n",
       "      <td>8131786</td>\n",
       "      <td>3</td>\n",
       "      <td>2018-08-31 06:00:19</td>\n",
       "      <td>9</td>\n",
       "      <td>1</td>\n",
       "      <td>2018-08-31</td>\n",
       "      <td>31</td>\n",
       "      <td>6</td>\n",
       "      <td>155.00</td>\n",
       "      <td>8341.00</td>\n",
       "      <td>656.00</td>\n",
       "    </tr>\n",
       "    <tr>\n",
       "      <th>4</th>\n",
       "      <td>xx</td>\n",
       "      <td>9778613</td>\n",
       "      <td>5</td>\n",
       "      <td>2018-08-21 06:01:56</td>\n",
       "      <td>14</td>\n",
       "      <td>1</td>\n",
       "      <td>2018-08-21</td>\n",
       "      <td>21</td>\n",
       "      <td>6</td>\n",
       "      <td>1191.00</td>\n",
       "      <td>1949.00</td>\n",
       "      <td>1689.00</td>\n",
       "    </tr>\n",
       "  </tbody>\n",
       "</table>\n",
       "</div>"
      ],
      "text/plain": [
       "  buyer_country_id  buyer_admin_id  item_id   create_order_time  irank  \\\n",
       "0               xx         8362078        1 2018-08-10 23:49:44     12   \n",
       "1               xx         9694304        2 2018-08-03 23:55:07      9   \n",
       "2               yy          101887        3 2018-08-27 08:31:26      3   \n",
       "3               xx         8131786        3 2018-08-31 06:00:19      9   \n",
       "4               xx         9778613        5 2018-08-21 06:01:56     14   \n",
       "\n",
       "   is_train        date  day  hour  cate_id  store_id  item_price  \n",
       "0         1  2018-08-10   10    23  2324.00  10013.00     4501.00  \n",
       "1         1  2018-08-03    3    23  3882.00   4485.00     2751.00  \n",
       "2         1  2018-08-27   27     8   155.00   8341.00      656.00  \n",
       "3         1  2018-08-31   31     6   155.00   8341.00      656.00  \n",
       "4         1  2018-08-21   21     6  1191.00   1949.00     1689.00  "
      ]
     },
     "execution_count": 8,
     "metadata": {},
     "output_type": "execute_result"
    }
   ],
   "source": [
    "df.head()"
   ]
  },
  {
   "cell_type": "code",
   "execution_count": 9,
   "metadata": {},
   "outputs": [
    {
     "name": "stdout",
     "output_type": "stream",
     "text": [
      "buyer_country_id 0\n",
      "buyer_admin_id 0\n",
      "item_id 0\n",
      "create_order_time 0\n",
      "irank 0\n",
      "is_train 0\n",
      "date 0\n",
      "day 0\n",
      "hour 0\n",
      "cate_id 26119\n",
      "store_id 26119\n",
      "item_price 26119\n",
      "item_id 0\n",
      "cate_id 0\n",
      "store_id 0\n",
      "item_price 0\n"
     ]
    }
   ],
   "source": [
    "# Null 空值统计\n",
    "for pdf in [df, item]:\n",
    "    for col in pdf.columns:\n",
    "        print(col, pdf[col].isnull().sum())"
   ]
  },
  {
   "cell_type": "code",
   "execution_count": 10,
   "metadata": {},
   "outputs": [
    {
     "data": {
      "text/html": [
       "<div>\n",
       "<style scoped>\n",
       "    .dataframe tbody tr th:only-of-type {\n",
       "        vertical-align: middle;\n",
       "    }\n",
       "\n",
       "    .dataframe tbody tr th {\n",
       "        vertical-align: top;\n",
       "    }\n",
       "\n",
       "    .dataframe thead th {\n",
       "        text-align: right;\n",
       "    }\n",
       "</style>\n",
       "<table border=\"1\" class=\"dataframe\">\n",
       "  <thead>\n",
       "    <tr style=\"text-align: right;\">\n",
       "      <th></th>\n",
       "      <th>buyer_admin_id</th>\n",
       "      <th>item_id</th>\n",
       "      <th>irank</th>\n",
       "      <th>is_train</th>\n",
       "      <th>day</th>\n",
       "      <th>hour</th>\n",
       "      <th>cate_id</th>\n",
       "      <th>store_id</th>\n",
       "      <th>item_price</th>\n",
       "    </tr>\n",
       "  </thead>\n",
       "  <tbody>\n",
       "    <tr>\n",
       "      <th>count</th>\n",
       "      <td>13035341.00</td>\n",
       "      <td>13035341.00</td>\n",
       "      <td>13035341.00</td>\n",
       "      <td>13035341.00</td>\n",
       "      <td>13035341.00</td>\n",
       "      <td>13035341.00</td>\n",
       "      <td>13009222.00</td>\n",
       "      <td>13009222.00</td>\n",
       "      <td>13009222.00</td>\n",
       "    </tr>\n",
       "    <tr>\n",
       "      <th>mean</th>\n",
       "      <td>6527293.86</td>\n",
       "      <td>6522519.78</td>\n",
       "      <td>143.62</td>\n",
       "      <td>0.99</td>\n",
       "      <td>18.62</td>\n",
       "      <td>9.06</td>\n",
       "      <td>1498.53</td>\n",
       "      <td>40575.67</td>\n",
       "      <td>1099.75</td>\n",
       "    </tr>\n",
       "    <tr>\n",
       "      <th>std</th>\n",
       "      <td>3764280.24</td>\n",
       "      <td>3765432.09</td>\n",
       "      <td>1573.84</td>\n",
       "      <td>0.11</td>\n",
       "      <td>9.21</td>\n",
       "      <td>6.56</td>\n",
       "      <td>903.26</td>\n",
       "      <td>24284.46</td>\n",
       "      <td>2880.00</td>\n",
       "    </tr>\n",
       "    <tr>\n",
       "      <th>min</th>\n",
       "      <td>1.00</td>\n",
       "      <td>1.00</td>\n",
       "      <td>-32768.00</td>\n",
       "      <td>0.00</td>\n",
       "      <td>1.00</td>\n",
       "      <td>0.00</td>\n",
       "      <td>1.00</td>\n",
       "      <td>1.00</td>\n",
       "      <td>1.00</td>\n",
       "    </tr>\n",
       "    <tr>\n",
       "      <th>25%</th>\n",
       "      <td>3269515.00</td>\n",
       "      <td>3261386.00</td>\n",
       "      <td>4.00</td>\n",
       "      <td>1.00</td>\n",
       "      <td>10.00</td>\n",
       "      <td>4.00</td>\n",
       "      <td>616.00</td>\n",
       "      <td>20648.00</td>\n",
       "      <td>123.00</td>\n",
       "    </tr>\n",
       "    <tr>\n",
       "      <th>50%</th>\n",
       "      <td>6528429.00</td>\n",
       "      <td>6522878.00</td>\n",
       "      <td>8.00</td>\n",
       "      <td>1.00</td>\n",
       "      <td>19.00</td>\n",
       "      <td>8.00</td>\n",
       "      <td>1505.00</td>\n",
       "      <td>39368.00</td>\n",
       "      <td>246.00</td>\n",
       "    </tr>\n",
       "    <tr>\n",
       "      <th>75%</th>\n",
       "      <td>9787265.00</td>\n",
       "      <td>9784900.00</td>\n",
       "      <td>16.00</td>\n",
       "      <td>1.00</td>\n",
       "      <td>27.00</td>\n",
       "      <td>13.00</td>\n",
       "      <td>2010.00</td>\n",
       "      <td>59273.00</td>\n",
       "      <td>700.00</td>\n",
       "    </tr>\n",
       "    <tr>\n",
       "      <th>max</th>\n",
       "      <td>13046721.00</td>\n",
       "      <td>13046734.00</td>\n",
       "      <td>32767.00</td>\n",
       "      <td>1.00</td>\n",
       "      <td>31.00</td>\n",
       "      <td>23.00</td>\n",
       "      <td>4243.00</td>\n",
       "      <td>95105.00</td>\n",
       "      <td>20230.00</td>\n",
       "    </tr>\n",
       "  </tbody>\n",
       "</table>\n",
       "</div>"
      ],
      "text/plain": [
       "       buyer_admin_id     item_id       irank    is_train         day  \\\n",
       "count     13035341.00 13035341.00 13035341.00 13035341.00 13035341.00   \n",
       "mean       6527293.86  6522519.78      143.62        0.99       18.62   \n",
       "std        3764280.24  3765432.09     1573.84        0.11        9.21   \n",
       "min              1.00        1.00   -32768.00        0.00        1.00   \n",
       "25%        3269515.00  3261386.00        4.00        1.00       10.00   \n",
       "50%        6528429.00  6522878.00        8.00        1.00       19.00   \n",
       "75%        9787265.00  9784900.00       16.00        1.00       27.00   \n",
       "max       13046721.00 13046734.00    32767.00        1.00       31.00   \n",
       "\n",
       "             hour     cate_id    store_id  item_price  \n",
       "count 13035341.00 13009222.00 13009222.00 13009222.00  \n",
       "mean         9.06     1498.53    40575.67     1099.75  \n",
       "std          6.56      903.26    24284.46     2880.00  \n",
       "min          0.00        1.00        1.00        1.00  \n",
       "25%          4.00      616.00    20648.00      123.00  \n",
       "50%          8.00     1505.00    39368.00      246.00  \n",
       "75%         13.00     2010.00    59273.00      700.00  \n",
       "max         23.00     4243.00    95105.00    20230.00  "
      ]
     },
     "execution_count": 10,
     "metadata": {},
     "output_type": "execute_result"
    }
   ],
   "source": [
    "df.describe()"
   ]
  },
  {
   "cell_type": "code",
   "execution_count": 11,
   "metadata": {},
   "outputs": [
    {
     "data": {
      "text/html": [
       "<div>\n",
       "<style scoped>\n",
       "    .dataframe tbody tr th:only-of-type {\n",
       "        vertical-align: middle;\n",
       "    }\n",
       "\n",
       "    .dataframe tbody tr th {\n",
       "        vertical-align: top;\n",
       "    }\n",
       "\n",
       "    .dataframe thead th {\n",
       "        text-align: right;\n",
       "    }\n",
       "</style>\n",
       "<table border=\"1\" class=\"dataframe\">\n",
       "  <thead>\n",
       "    <tr style=\"text-align: right;\">\n",
       "      <th></th>\n",
       "      <th>item_id</th>\n",
       "      <th>cate_id</th>\n",
       "      <th>store_id</th>\n",
       "      <th>item_price</th>\n",
       "    </tr>\n",
       "  </thead>\n",
       "  <tbody>\n",
       "    <tr>\n",
       "      <th>count</th>\n",
       "      <td>2832669.00</td>\n",
       "      <td>2832669.00</td>\n",
       "      <td>2832669.00</td>\n",
       "      <td>2832669.00</td>\n",
       "    </tr>\n",
       "    <tr>\n",
       "      <th>mean</th>\n",
       "      <td>6429138.00</td>\n",
       "      <td>1481.10</td>\n",
       "      <td>40256.46</td>\n",
       "      <td>1124.00</td>\n",
       "    </tr>\n",
       "    <tr>\n",
       "      <th>std</th>\n",
       "      <td>3725431.44</td>\n",
       "      <td>923.09</td>\n",
       "      <td>24370.92</td>\n",
       "      <td>2110.62</td>\n",
       "    </tr>\n",
       "    <tr>\n",
       "      <th>min</th>\n",
       "      <td>1.00</td>\n",
       "      <td>1.00</td>\n",
       "      <td>1.00</td>\n",
       "      <td>1.00</td>\n",
       "    </tr>\n",
       "    <tr>\n",
       "      <th>25%</th>\n",
       "      <td>3224114.00</td>\n",
       "      <td>600.00</td>\n",
       "      <td>19850.00</td>\n",
       "      <td>180.00</td>\n",
       "    </tr>\n",
       "    <tr>\n",
       "      <th>50%</th>\n",
       "      <td>6391845.00</td>\n",
       "      <td>1499.00</td>\n",
       "      <td>38954.00</td>\n",
       "      <td>400.00</td>\n",
       "    </tr>\n",
       "    <tr>\n",
       "      <th>75%</th>\n",
       "      <td>9636216.00</td>\n",
       "      <td>2050.00</td>\n",
       "      <td>58406.00</td>\n",
       "      <td>1200.00</td>\n",
       "    </tr>\n",
       "    <tr>\n",
       "      <th>max</th>\n",
       "      <td>13046734.00</td>\n",
       "      <td>4243.00</td>\n",
       "      <td>95105.00</td>\n",
       "      <td>20230.00</td>\n",
       "    </tr>\n",
       "  </tbody>\n",
       "</table>\n",
       "</div>"
      ],
      "text/plain": [
       "          item_id    cate_id   store_id  item_price\n",
       "count  2832669.00 2832669.00 2832669.00  2832669.00\n",
       "mean   6429138.00    1481.10   40256.46     1124.00\n",
       "std    3725431.44     923.09   24370.92     2110.62\n",
       "min          1.00       1.00       1.00        1.00\n",
       "25%    3224114.00     600.00   19850.00      180.00\n",
       "50%    6391845.00    1499.00   38954.00      400.00\n",
       "75%    9636216.00    2050.00   58406.00     1200.00\n",
       "max   13046734.00    4243.00   95105.00    20230.00"
      ]
     },
     "execution_count": 11,
     "metadata": {},
     "output_type": "execute_result"
    }
   ],
   "source": [
    "item.describe()"
   ]
  },
  {
   "cell_type": "markdown",
   "metadata": {},
   "source": [
    "数据内容：\n",
    "* 用户、商品、店铺、品类乃至商品价格都是从1开始用整数编号\n",
    "* 订单日期格式为：YYYY-mm-dd HH:mm:ss\n",
    "* 源数据中都木有空值，但是由于某些商品，不在商品表，因此缺少了一些价格、品类信息。"
   ]
  },
  {
   "cell_type": "markdown",
   "metadata": {},
   "source": [
    "# 数据探查"
   ]
  },
  {
   "cell_type": "markdown",
   "metadata": {},
   "source": [
    "下一步，我们依次对每个文件的特征进行基础统计和可视化处理，这是对数据进一步理解的基础。\n",
    "\n",
    "[]~(￣▽￣)~* Let's do it."
   ]
  },
  {
   "cell_type": "markdown",
   "metadata": {},
   "source": [
    "## 训练集与测试集"
   ]
  },
  {
   "cell_type": "code",
   "execution_count": 12,
   "metadata": {},
   "outputs": [],
   "source": [
    "train = df['is_train']==1\n",
    "test = df['is_train']==0"
   ]
  },
  {
   "cell_type": "code",
   "execution_count": 13,
   "metadata": {},
   "outputs": [
    {
     "name": "stdout",
     "output_type": "stream",
     "text": [
      "训练集样本量是 12868509\n",
      "测试集样本量是 166832\n",
      "样本比例为： 77.13453653975256\n"
     ]
    }
   ],
   "source": [
    "train_count = len(df[train])\n",
    "print('训练集样本量是',train_count)\n",
    "test_count = len(df[test])\n",
    "print('测试集样本量是',test_count)\n",
    "print('样本比例为：', train_count/test_count)"
   ]
  },
  {
   "cell_type": "markdown",
   "metadata": {},
   "source": [
    "### buyer_country_id 国家编号"
   ]
  },
  {
   "cell_type": "code",
   "execution_count": 14,
   "metadata": {},
   "outputs": [],
   "source": [
    "def groupby_cnt_ratio(df, col):\n",
    "    if isinstance(col, str):\n",
    "        col = [col]\n",
    "    key = ['is_train', 'buyer_country_id'] + col\n",
    "    \n",
    "    # groupby function\n",
    "    cnt_stat = df.groupby(key).size().to_frame('count')\n",
    "    ratio_stat = (cnt_stat / cnt_stat.groupby(['is_train', 'buyer_country_id']).sum()).rename(columns={'count':'count_ratio'})\n",
    "    return pd.merge(cnt_stat, ratio_stat, on=key, how='outer').sort_values(by=['count'], ascending=False)"
   ]
  },
  {
   "cell_type": "code",
   "execution_count": null,
   "metadata": {},
   "outputs": [
    {
     "data": {
      "text/html": [
       "<div>\n",
       "<style scoped>\n",
       "    .dataframe tbody tr th:only-of-type {\n",
       "        vertical-align: middle;\n",
       "    }\n",
       "\n",
       "    .dataframe tbody tr th {\n",
       "        vertical-align: top;\n",
       "    }\n",
       "\n",
       "    .dataframe thead th {\n",
       "        text-align: right;\n",
       "    }\n",
       "</style>\n",
       "<table border=\"1\" class=\"dataframe\">\n",
       "  <thead>\n",
       "    <tr style=\"text-align: right;\">\n",
       "      <th></th>\n",
       "      <th></th>\n",
       "      <th>count</th>\n",
       "      <th>count_ratio</th>\n",
       "    </tr>\n",
       "    <tr>\n",
       "      <th>is_train</th>\n",
       "      <th>buyer_country_id</th>\n",
       "      <th></th>\n",
       "      <th></th>\n",
       "    </tr>\n",
       "  </thead>\n",
       "  <tbody>\n",
       "    <tr>\n",
       "      <th rowspan=\"2\" valign=\"top\">1</th>\n",
       "      <th>xx</th>\n",
       "      <td>10635642</td>\n",
       "      <td>1.00</td>\n",
       "    </tr>\n",
       "    <tr>\n",
       "      <th>yy</th>\n",
       "      <td>2232867</td>\n",
       "      <td>1.00</td>\n",
       "    </tr>\n",
       "    <tr>\n",
       "      <th>0</th>\n",
       "      <th>yy</th>\n",
       "      <td>166832</td>\n",
       "      <td>1.00</td>\n",
       "    </tr>\n",
       "  </tbody>\n",
       "</table>\n",
       "</div>"
      ],
      "text/plain": [
       "                              count  count_ratio\n",
       "is_train buyer_country_id                       \n",
       "1        xx                10635642         1.00\n",
       "         yy                 2232867         1.00\n",
       "0        yy                  166832         1.00"
      ]
     },
     "execution_count": 15,
     "metadata": {},
     "output_type": "execute_result"
    }
   ],
   "source": [
    "groupby_cnt_ratio(df, [])"
   ]
  },
  {
   "cell_type": "code",
   "execution_count": null,
   "metadata": {},
   "outputs": [
    {
     "data": {
      "image/png": "[encoded data removed]",
      "text/plain": [
       "<Figure size 576x432 with 1 Axes>"
      ]
     },
     "metadata": {
      "needs_background": "light"
     },
     "output_type": "display_data"
    }
   ],
   "source": [
    "plt.figure(figsize=(8,6))\n",
    "sns.countplot(x='is_train', data = df, palette=['red', 'blue'], hue='buyer_country_id', order=[1, 0])\n",
    "plt.xticks(np.arange(2), ('训练集', '测试集'))\n",
    "plt.xlabel('数据文件')\n",
    "plt.title('国家编号');"
   ]
  },
  {
   "cell_type": "markdown",
   "metadata": {},
   "source": [
    "buyer_country_id 国家编号\n",
    "\n",
    "> 本次比赛给出若干日内来自成熟国家的部分用户的行为数据，以及来自待成熟国家的A部分用户的行为数据，以及待成熟国家的B部分用户的行为数据去除每个用户的最后一条购买数据，让参赛人预测B部分用户的最后一条行为数据。\n",
    "\n",
    "* 训练集中有2个国家数据，xx国家样本数10635642，占比83%，yy国家样本数2232867条，仅占17%\n",
    "* 预测集中有yy国家的166832数据, 训练集中yy国样本数量是测试集中的13倍，如赛题目的所言，期望通过大量成熟国家来预测少量带成熟国家的用户购买行为"
   ]
  },
  {
   "cell_type": "markdown",
   "metadata": {},
   "source": [
    "### buyer_admin_id 用户编号"
   ]
  },
  {
   "cell_type": "code",
   "execution_count": null,
   "metadata": {},
   "outputs": [
    {
     "name": "stdout",
     "output_type": "stream",
     "text": [
      "训练集中用户数量 809213\n",
      "测试集中用户数量 11398\n"
     ]
    }
   ],
   "source": [
    "print('训练集中用户数量',len(df[train]['buyer_admin_id'].unique()))\n",
    "print('测试集中用户数量',len(df[test]['buyer_admin_id'].unique()))"
   ]
  },
  {
   "cell_type": "code",
   "execution_count": null,
   "metadata": {},
   "outputs": [
    {
     "name": "stdout",
     "output_type": "stream",
     "text": [
      "同时在训练集测试集出现的有6位用户，id如下： [12647969, 13000419, 3106927, 12858772, 12929117, 12368445]\n"
     ]
    }
   ],
   "source": [
    "union = list(set(df[train]['buyer_admin_id'].unique()).intersection(set(df[test]['buyer_admin_id'].unique())))\n",
    "print('同时在训练集测试集出现的有6位用户，id如下：',union)"
   ]
  },
  {
   "cell_type": "code",
   "execution_count": null,
   "metadata": {},
   "outputs": [
    {
     "data": {
      "text/html": [
       "<div>\n",
       "<style scoped>\n",
       "    .dataframe tbody tr th:only-of-type {\n",
       "        vertical-align: middle;\n",
       "    }\n",
       "\n",
       "    .dataframe tbody tr th {\n",
       "        vertical-align: top;\n",
       "    }\n",
       "\n",
       "    .dataframe thead th {\n",
       "        text-align: right;\n",
       "    }\n",
       "</style>\n",
       "<table border=\"1\" class=\"dataframe\">\n",
       "  <thead>\n",
       "    <tr style=\"text-align: right;\">\n",
       "      <th></th>\n",
       "      <th>buyer_country_id</th>\n",
       "      <th>buyer_admin_id</th>\n",
       "      <th>item_id</th>\n",
       "      <th>create_order_time</th>\n",
       "      <th>irank</th>\n",
       "      <th>is_train</th>\n",
       "      <th>date</th>\n",
       "      <th>day</th>\n",
       "      <th>hour</th>\n",
       "      <th>cate_id</th>\n",
       "      <th>store_id</th>\n",
       "      <th>item_price</th>\n",
       "    </tr>\n",
       "  </thead>\n",
       "  <tbody>\n",
       "    <tr>\n",
       "      <th>7546704</th>\n",
       "      <td>xx</td>\n",
       "      <td>3106927</td>\n",
       "      <td>7645546</td>\n",
       "      <td>2018-08-30 02:49:22</td>\n",
       "      <td>1</td>\n",
       "      <td>1</td>\n",
       "      <td>2018-08-30</td>\n",
       "      <td>30</td>\n",
       "      <td>2</td>\n",
       "      <td>1164.00</td>\n",
       "      <td>73781.00</td>\n",
       "      <td>770.00</td>\n",
       "    </tr>\n",
       "    <tr>\n",
       "      <th>4582539</th>\n",
       "      <td>xx</td>\n",
       "      <td>3106927</td>\n",
       "      <td>4639151</td>\n",
       "      <td>2018-08-30 02:49:22</td>\n",
       "      <td>2</td>\n",
       "      <td>1</td>\n",
       "      <td>2018-08-30</td>\n",
       "      <td>30</td>\n",
       "      <td>2</td>\n",
       "      <td>2214.00</td>\n",
       "      <td>53190.00</td>\n",
       "      <td>1669.00</td>\n",
       "    </tr>\n",
       "    <tr>\n",
       "      <th>11953258</th>\n",
       "      <td>xx</td>\n",
       "      <td>3106927</td>\n",
       "      <td>12122118</td>\n",
       "      <td>2018-08-30 02:49:22</td>\n",
       "      <td>3</td>\n",
       "      <td>1</td>\n",
       "      <td>2018-08-30</td>\n",
       "      <td>30</td>\n",
       "      <td>2</td>\n",
       "      <td>236.00</td>\n",
       "      <td>73781.00</td>\n",
       "      <td>884.00</td>\n",
       "    </tr>\n",
       "    <tr>\n",
       "      <th>255625</th>\n",
       "      <td>xx</td>\n",
       "      <td>3106927</td>\n",
       "      <td>258860</td>\n",
       "      <td>2018-08-30 02:49:22</td>\n",
       "      <td>4</td>\n",
       "      <td>1</td>\n",
       "      <td>2018-08-30</td>\n",
       "      <td>30</td>\n",
       "      <td>2</td>\n",
       "      <td>189.00</td>\n",
       "      <td>24221.00</td>\n",
       "      <td>900.00</td>\n",
       "    </tr>\n",
       "    <tr>\n",
       "      <th>7402817</th>\n",
       "      <td>xx</td>\n",
       "      <td>3106927</td>\n",
       "      <td>7499372</td>\n",
       "      <td>2018-08-30 02:49:22</td>\n",
       "      <td>5</td>\n",
       "      <td>1</td>\n",
       "      <td>2018-08-30</td>\n",
       "      <td>30</td>\n",
       "      <td>2</td>\n",
       "      <td>2214.00</td>\n",
       "      <td>32535.00</td>\n",
       "      <td>2714.00</td>\n",
       "    </tr>\n",
       "    <tr>\n",
       "      <th>9483312</th>\n",
       "      <td>xx</td>\n",
       "      <td>3106927</td>\n",
       "      <td>9613063</td>\n",
       "      <td>2018-08-30 02:49:22</td>\n",
       "      <td>6</td>\n",
       "      <td>1</td>\n",
       "      <td>2018-08-30</td>\n",
       "      <td>30</td>\n",
       "      <td>2</td>\n",
       "      <td>3069.00</td>\n",
       "      <td>73781.00</td>\n",
       "      <td>110.00</td>\n",
       "    </tr>\n",
       "    <tr>\n",
       "      <th>2740080</th>\n",
       "      <td>xx</td>\n",
       "      <td>3106927</td>\n",
       "      <td>2773189</td>\n",
       "      <td>2018-08-27 08:18:23</td>\n",
       "      <td>10</td>\n",
       "      <td>1</td>\n",
       "      <td>2018-08-27</td>\n",
       "      <td>27</td>\n",
       "      <td>8</td>\n",
       "      <td>1865.00</td>\n",
       "      <td>49499.00</td>\n",
       "      <td>20067.00</td>\n",
       "    </tr>\n",
       "    <tr>\n",
       "      <th>12152249</th>\n",
       "      <td>xx</td>\n",
       "      <td>3106927</td>\n",
       "      <td>12324030</td>\n",
       "      <td>2018-08-27 07:15:05</td>\n",
       "      <td>11</td>\n",
       "      <td>1</td>\n",
       "      <td>2018-08-27</td>\n",
       "      <td>27</td>\n",
       "      <td>7</td>\n",
       "      <td>880.00</td>\n",
       "      <td>92968.00</td>\n",
       "      <td>1764.00</td>\n",
       "    </tr>\n",
       "    <tr>\n",
       "      <th>2201292</th>\n",
       "      <td>xx</td>\n",
       "      <td>3106927</td>\n",
       "      <td>2227720</td>\n",
       "      <td>2018-08-19 02:36:36</td>\n",
       "      <td>12</td>\n",
       "      <td>1</td>\n",
       "      <td>2018-08-19</td>\n",
       "      <td>19</td>\n",
       "      <td>2</td>\n",
       "      <td>1164.00</td>\n",
       "      <td>6404.00</td>\n",
       "      <td>1900.00</td>\n",
       "    </tr>\n",
       "    <tr>\n",
       "      <th>6717641</th>\n",
       "      <td>xx</td>\n",
       "      <td>3106927</td>\n",
       "      <td>6804187</td>\n",
       "      <td>2018-08-19 02:33:39</td>\n",
       "      <td>13</td>\n",
       "      <td>1</td>\n",
       "      <td>2018-08-19</td>\n",
       "      <td>19</td>\n",
       "      <td>2</td>\n",
       "      <td>1164.00</td>\n",
       "      <td>52421.00</td>\n",
       "      <td>230.00</td>\n",
       "    </tr>\n",
       "  </tbody>\n",
       "</table>\n",
       "</div>"
      ],
      "text/plain": [
       "         buyer_country_id  buyer_admin_id   item_id   create_order_time  \\\n",
       "7546704                xx         3106927   7645546 2018-08-30 02:49:22   \n",
       "4582539                xx         3106927   4639151 2018-08-30 02:49:22   \n",
       "11953258               xx         3106927  12122118 2018-08-30 02:49:22   \n",
       "255625                 xx         3106927    258860 2018-08-30 02:49:22   \n",
       "7402817                xx         3106927   7499372 2018-08-30 02:49:22   \n",
       "9483312                xx         3106927   9613063 2018-08-30 02:49:22   \n",
       "2740080                xx         3106927   2773189 2018-08-27 08:18:23   \n",
       "12152249               xx         3106927  12324030 2018-08-27 07:15:05   \n",
       "2201292                xx         3106927   2227720 2018-08-19 02:36:36   \n",
       "6717641                xx         3106927   6804187 2018-08-19 02:33:39   \n",
       "\n",
       "          irank  is_train        date  day  hour  cate_id  store_id  \\\n",
       "7546704       1         1  2018-08-30   30     2  1164.00  73781.00   \n",
       "4582539       2         1  2018-08-30   30     2  2214.00  53190.00   \n",
       "11953258      3         1  2018-08-30   30     2   236.00  73781.00   \n",
       "255625        4         1  2018-08-30   30     2   189.00  24221.00   \n",
       "7402817       5         1  2018-08-30   30     2  2214.00  32535.00   \n",
       "9483312       6         1  2018-08-30   30     2  3069.00  73781.00   \n",
       "2740080      10         1  2018-08-27   27     8  1865.00  49499.00   \n",
       "12152249     11         1  2018-08-27   27     7   880.00  92968.00   \n",
       "2201292      12         1  2018-08-19   19     2  1164.00   6404.00   \n",
       "6717641      13         1  2018-08-19   19     2  1164.00  52421.00   \n",
       "\n",
       "          item_price  \n",
       "7546704       770.00  \n",
       "4582539      1669.00  \n",
       "11953258      884.00  \n",
       "255625        900.00  \n",
       "7402817      2714.00  \n",
       "9483312       110.00  \n",
       "2740080     20067.00  \n",
       "12152249     1764.00  \n",
       "2201292      1900.00  \n",
       "6717641       230.00  "
      ]
     },
     "execution_count": 19,
     "metadata": {},
     "output_type": "execute_result"
    }
   ],
   "source": [
    "df[train][df['buyer_admin_id'].isin(union)].sort_values(by=['buyer_admin_id','irank']).head(10)"
   ]
  },
  {
   "cell_type": "code",
   "execution_count": null,
   "metadata": {},
   "outputs": [
    {
     "data": {
      "text/html": [
       "<div>\n",
       "<style scoped>\n",
       "    .dataframe tbody tr th:only-of-type {\n",
       "        vertical-align: middle;\n",
       "    }\n",
       "\n",
       "    .dataframe tbody tr th {\n",
       "        vertical-align: top;\n",
       "    }\n",
       "\n",
       "    .dataframe thead th {\n",
       "        text-align: right;\n",
       "    }\n",
       "</style>\n",
       "<table border=\"1\" class=\"dataframe\">\n",
       "  <thead>\n",
       "    <tr style=\"text-align: right;\">\n",
       "      <th></th>\n",
       "      <th>buyer_country_id</th>\n",
       "      <th>buyer_admin_id</th>\n",
       "      <th>item_id</th>\n",
       "      <th>create_order_time</th>\n",
       "      <th>irank</th>\n",
       "      <th>is_train</th>\n",
       "      <th>date</th>\n",
       "      <th>day</th>\n",
       "      <th>hour</th>\n",
       "      <th>cate_id</th>\n",
       "      <th>store_id</th>\n",
       "      <th>item_price</th>\n",
       "    </tr>\n",
       "  </thead>\n",
       "  <tbody>\n",
       "    <tr>\n",
       "      <th>13016145</th>\n",
       "      <td>yy</td>\n",
       "      <td>3106927</td>\n",
       "      <td>202354</td>\n",
       "      <td>2018-08-30 02:48:40</td>\n",
       "      <td>7</td>\n",
       "      <td>0</td>\n",
       "      <td>2018-08-30</td>\n",
       "      <td>30</td>\n",
       "      <td>2</td>\n",
       "      <td>642.00</td>\n",
       "      <td>24221.00</td>\n",
       "      <td>989.00</td>\n",
       "    </tr>\n",
       "    <tr>\n",
       "      <th>13008981</th>\n",
       "      <td>yy</td>\n",
       "      <td>3106927</td>\n",
       "      <td>6994414</td>\n",
       "      <td>2018-08-29 05:48:06</td>\n",
       "      <td>8</td>\n",
       "      <td>0</td>\n",
       "      <td>2018-08-29</td>\n",
       "      <td>29</td>\n",
       "      <td>5</td>\n",
       "      <td>7.00</td>\n",
       "      <td>37411.00</td>\n",
       "      <td>1521.00</td>\n",
       "    </tr>\n",
       "    <tr>\n",
       "      <th>13008982</th>\n",
       "      <td>yy</td>\n",
       "      <td>3106927</td>\n",
       "      <td>6994414</td>\n",
       "      <td>2018-08-29 05:48:06</td>\n",
       "      <td>9</td>\n",
       "      <td>0</td>\n",
       "      <td>2018-08-29</td>\n",
       "      <td>29</td>\n",
       "      <td>5</td>\n",
       "      <td>7.00</td>\n",
       "      <td>37411.00</td>\n",
       "      <td>1521.00</td>\n",
       "    </tr>\n",
       "  </tbody>\n",
       "</table>\n",
       "</div>"
      ],
      "text/plain": [
       "         buyer_country_id  buyer_admin_id  item_id   create_order_time  irank  \\\n",
       "13016145               yy         3106927   202354 2018-08-30 02:48:40      7   \n",
       "13008981               yy         3106927  6994414 2018-08-29 05:48:06      8   \n",
       "13008982               yy         3106927  6994414 2018-08-29 05:48:06      9   \n",
       "\n",
       "          is_train        date  day  hour  cate_id  store_id  item_price  \n",
       "13016145         0  2018-08-30   30     2   642.00  24221.00      989.00  \n",
       "13008981         0  2018-08-29   29     5     7.00  37411.00     1521.00  \n",
       "13008982         0  2018-08-29   29     5     7.00  37411.00     1521.00  "
      ]
     },
     "execution_count": 20,
     "metadata": {},
     "output_type": "execute_result"
    }
   ],
   "source": [
    "df[test][df['buyer_admin_id'].isin(union)].sort_values(by=['buyer_admin_id','irank']).head(3)"
   ]
  },
  {
   "cell_type": "code",
   "execution_count": null,
   "metadata": {},
   "outputs": [
    {
     "data": {
      "text/html": [
       "<div>\n",
       "<style scoped>\n",
       "    .dataframe tbody tr th:only-of-type {\n",
       "        vertical-align: middle;\n",
       "    }\n",
       "\n",
       "    .dataframe tbody tr th {\n",
       "        vertical-align: top;\n",
       "    }\n",
       "\n",
       "    .dataframe thead th {\n",
       "        text-align: right;\n",
       "    }\n",
       "</style>\n",
       "<table border=\"1\" class=\"dataframe\">\n",
       "  <thead>\n",
       "    <tr style=\"text-align: right;\">\n",
       "      <th></th>\n",
       "      <th>buyer_country_id</th>\n",
       "      <th>buyer_admin_id</th>\n",
       "      <th>item_id</th>\n",
       "      <th>create_order_time</th>\n",
       "      <th>irank</th>\n",
       "      <th>is_train</th>\n",
       "      <th>date</th>\n",
       "      <th>day</th>\n",
       "      <th>hour</th>\n",
       "      <th>cate_id</th>\n",
       "      <th>store_id</th>\n",
       "      <th>item_price</th>\n",
       "    </tr>\n",
       "  </thead>\n",
       "  <tbody>\n",
       "    <tr>\n",
       "      <th>3488248</th>\n",
       "      <td>xx</td>\n",
       "      <td>12858772</td>\n",
       "      <td>3530835</td>\n",
       "      <td>2018-08-27 20:49:33</td>\n",
       "      <td>1</td>\n",
       "      <td>1</td>\n",
       "      <td>2018-08-27</td>\n",
       "      <td>27</td>\n",
       "      <td>20</td>\n",
       "      <td>579.00</td>\n",
       "      <td>38151.00</td>\n",
       "      <td>399.00</td>\n",
       "    </tr>\n",
       "    <tr>\n",
       "      <th>6404074</th>\n",
       "      <td>xx</td>\n",
       "      <td>12368445</td>\n",
       "      <td>6486053</td>\n",
       "      <td>2018-08-31 04:24:46</td>\n",
       "      <td>1</td>\n",
       "      <td>1</td>\n",
       "      <td>2018-08-31</td>\n",
       "      <td>31</td>\n",
       "      <td>4</td>\n",
       "      <td>1423.00</td>\n",
       "      <td>55861.00</td>\n",
       "      <td>400.00</td>\n",
       "    </tr>\n",
       "    <tr>\n",
       "      <th>7546704</th>\n",
       "      <td>xx</td>\n",
       "      <td>3106927</td>\n",
       "      <td>7645546</td>\n",
       "      <td>2018-08-30 02:49:22</td>\n",
       "      <td>1</td>\n",
       "      <td>1</td>\n",
       "      <td>2018-08-30</td>\n",
       "      <td>30</td>\n",
       "      <td>2</td>\n",
       "      <td>1164.00</td>\n",
       "      <td>73781.00</td>\n",
       "      <td>770.00</td>\n",
       "    </tr>\n",
       "  </tbody>\n",
       "</table>\n",
       "</div>"
      ],
      "text/plain": [
       "        buyer_country_id  buyer_admin_id  item_id   create_order_time  irank  \\\n",
       "3488248               xx        12858772  3530835 2018-08-27 20:49:33      1   \n",
       "6404074               xx        12368445  6486053 2018-08-31 04:24:46      1   \n",
       "7546704               xx         3106927  7645546 2018-08-30 02:49:22      1   \n",
       "\n",
       "         is_train        date  day  hour  cate_id  store_id  item_price  \n",
       "3488248         1  2018-08-27   27    20   579.00  38151.00      399.00  \n",
       "6404074         1  2018-08-31   31     4  1423.00  55861.00      400.00  \n",
       "7546704         1  2018-08-30   30     2  1164.00  73781.00      770.00  "
      ]
     },
     "execution_count": 21,
     "metadata": {},
     "output_type": "execute_result"
    }
   ],
   "source": [
    "df[(train) & (df['irank']==1) & (df['buyer_admin_id'].isin(['12858772','3106927','12368445']))]"
   ]
  },
  {
   "cell_type": "markdown",
   "metadata": {},
   "source": [
    "emmm... 为啥同一个用户在训练集和测试集国家不一样了呢？但是其他信息能对上。。。，而且rank=1的结果直接给出来了。。。\n",
    "\n",
    "id为12858772、3106927、12368445直接把结果给出来\n",
    "\n",
    "可能是数据清洗出问题了，后面再看看怎么处理"
   ]
  },
  {
   "cell_type": "markdown",
   "metadata": {},
   "source": [
    "#### 用户记录数分布"
   ]
  },
  {
   "cell_type": "code",
   "execution_count": null,
   "metadata": {},
   "outputs": [
    {
     "data": {
      "text/html": [
       "<div>\n",
       "<style scoped>\n",
       "    .dataframe tbody tr th:only-of-type {\n",
       "        vertical-align: middle;\n",
       "    }\n",
       "\n",
       "    .dataframe tbody tr th {\n",
       "        vertical-align: top;\n",
       "    }\n",
       "\n",
       "    .dataframe thead th {\n",
       "        text-align: right;\n",
       "    }\n",
       "</style>\n",
       "<table border=\"1\" class=\"dataframe\">\n",
       "  <thead>\n",
       "    <tr style=\"text-align: right;\">\n",
       "      <th></th>\n",
       "      <th></th>\n",
       "      <th></th>\n",
       "      <th>count</th>\n",
       "      <th>count_ratio</th>\n",
       "    </tr>\n",
       "    <tr>\n",
       "      <th>is_train</th>\n",
       "      <th>buyer_country_id</th>\n",
       "      <th>buyer_admin_id</th>\n",
       "      <th></th>\n",
       "      <th></th>\n",
       "    </tr>\n",
       "  </thead>\n",
       "  <tbody>\n",
       "    <tr>\n",
       "      <th rowspan=\"6\" valign=\"top\">1</th>\n",
       "      <th rowspan=\"3\" valign=\"top\">xx</th>\n",
       "      <th>10828801</th>\n",
       "      <td>42751</td>\n",
       "      <td>0.00</td>\n",
       "    </tr>\n",
       "    <tr>\n",
       "      <th>10951390</th>\n",
       "      <td>23569</td>\n",
       "      <td>0.00</td>\n",
       "    </tr>\n",
       "    <tr>\n",
       "      <th>11223615</th>\n",
       "      <td>19933</td>\n",
       "      <td>0.00</td>\n",
       "    </tr>\n",
       "    <tr>\n",
       "      <th rowspan=\"3\" valign=\"top\">yy</th>\n",
       "      <th>2381782</th>\n",
       "      <td>3480</td>\n",
       "      <td>0.00</td>\n",
       "    </tr>\n",
       "    <tr>\n",
       "      <th>2333316</th>\n",
       "      <td>1944</td>\n",
       "      <td>0.00</td>\n",
       "    </tr>\n",
       "    <tr>\n",
       "      <th>2365356</th>\n",
       "      <td>1686</td>\n",
       "      <td>0.00</td>\n",
       "    </tr>\n",
       "    <tr>\n",
       "      <th rowspan=\"3\" valign=\"top\">0</th>\n",
       "      <th rowspan=\"3\" valign=\"top\">yy</th>\n",
       "      <th>2041038</th>\n",
       "      <td>1386</td>\n",
       "      <td>0.01</td>\n",
       "    </tr>\n",
       "    <tr>\n",
       "      <th>2070430</th>\n",
       "      <td>399</td>\n",
       "      <td>0.00</td>\n",
       "    </tr>\n",
       "    <tr>\n",
       "      <th>1144848</th>\n",
       "      <td>286</td>\n",
       "      <td>0.00</td>\n",
       "    </tr>\n",
       "  </tbody>\n",
       "</table>\n",
       "</div>"
      ],
      "text/plain": [
       "                                          count  count_ratio\n",
       "is_train buyer_country_id buyer_admin_id                    \n",
       "1        xx               10828801        42751         0.00\n",
       "                          10951390        23569         0.00\n",
       "                          11223615        19933         0.00\n",
       "         yy               2381782          3480         0.00\n",
       "                          2333316          1944         0.00\n",
       "                          2365356          1686         0.00\n",
       "0        yy               2041038          1386         0.01\n",
       "                          2070430           399         0.00\n",
       "                          1144848           286         0.00"
      ]
     },
     "execution_count": 22,
     "metadata": {},
     "output_type": "execute_result"
    }
   ],
   "source": [
    "admin_cnt = groupby_cnt_ratio(df, 'buyer_admin_id')\n",
    "admin_cnt.groupby(['is_train','buyer_country_id']).head(3)"
   ]
  },
  {
   "cell_type": "code",
   "execution_count": null,
   "metadata": {},
   "outputs": [
    {
     "data": {
      "text/html": [
       "<div>\n",
       "<style scoped>\n",
       "    .dataframe tbody tr th:only-of-type {\n",
       "        vertical-align: middle;\n",
       "    }\n",
       "\n",
       "    .dataframe tbody tr th {\n",
       "        vertical-align: top;\n",
       "    }\n",
       "\n",
       "    .dataframe thead th {\n",
       "        text-align: right;\n",
       "    }\n",
       "</style>\n",
       "<table border=\"1\" class=\"dataframe\">\n",
       "  <thead>\n",
       "    <tr style=\"text-align: right;\">\n",
       "      <th></th>\n",
       "      <th></th>\n",
       "      <th>max</th>\n",
       "      <th>min</th>\n",
       "      <th>median</th>\n",
       "    </tr>\n",
       "    <tr>\n",
       "      <th>is_train</th>\n",
       "      <th>buyer_country_id</th>\n",
       "      <th></th>\n",
       "      <th></th>\n",
       "      <th></th>\n",
       "    </tr>\n",
       "  </thead>\n",
       "  <tbody>\n",
       "    <tr>\n",
       "      <th>0</th>\n",
       "      <th>yy</th>\n",
       "      <td>1386</td>\n",
       "      <td>7</td>\n",
       "      <td>11</td>\n",
       "    </tr>\n",
       "    <tr>\n",
       "      <th rowspan=\"2\" valign=\"top\">1</th>\n",
       "      <th>xx</th>\n",
       "      <td>42751</td>\n",
       "      <td>8</td>\n",
       "      <td>11</td>\n",
       "    </tr>\n",
       "    <tr>\n",
       "      <th>yy</th>\n",
       "      <td>3480</td>\n",
       "      <td>8</td>\n",
       "      <td>12</td>\n",
       "    </tr>\n",
       "  </tbody>\n",
       "</table>\n",
       "</div>"
      ],
      "text/plain": [
       "                             max  min  median\n",
       "is_train buyer_country_id                    \n",
       "0        yy                 1386    7      11\n",
       "1        xx                42751    8      11\n",
       "         yy                 3480    8      12"
      ]
     },
     "execution_count": 23,
     "metadata": {},
     "output_type": "execute_result"
    }
   ],
   "source": [
    "# 用户购买记录数——最多、最少、中位数\n",
    "admin_cnt.groupby(['is_train','buyer_country_id'])['count'].agg(['max','min','median'])"
   ]
  },
  {
   "cell_type": "code",
   "execution_count": null,
   "metadata": {},
   "outputs": [
    {
     "data": {
      "image/png": "[encoded data removed]",
      "text/plain": [
       "<Figure size 1152x432 with 2 Axes>"
      ]
     },
     "metadata": {
      "needs_background": "light"
     },
     "output_type": "display_data"
    }
   ],
   "source": [
    "fig, ax = plt.subplots(1, 2 ,figsize=(16,6))\n",
    "ax[0].set(xlabel='用户记录数')\n",
    "sns.kdeplot(admin_cnt.loc[(1, 'xx')]['count'].values, ax=ax[0]).set_title('训练集--xx国用户记录数')\n",
    "\n",
    "ax[1].legend(labels=['训练集', '测试集'], loc=\"upper right\")\n",
    "ax[1].set(xlabel='用户记录数')\n",
    "sns.kdeplot(admin_cnt[admin_cnt['count']<50].loc[(1, 'yy')]['count'].values, ax=ax[1]).set_title('yy国用户记录数')\n",
    "sns.kdeplot(admin_cnt[admin_cnt['count']<50].loc[(0, 'yy')]['count'].values, ax=ax[1]);"
   ]
  },
  {
   "cell_type": "markdown",
   "metadata": {},
   "source": [
    "用户记录数进行了一波简单的探查：\n",
    "* 训练集中记录了*809213*个用户的数据，其中id为10828801的用户拔得头筹，有42751条购买记录，用户至少都有8条记录\n",
    "* 训练集中记录了*11398*个用户的数据，其中id为2041038的用户勇冠三军，有1386条购买记录，用户至少有7条记录\n",
    "\n",
    "Notes: 验证集中用户最少仅有7条，是因为最后一条记录被抹去"
   ]
  },
  {
   "cell_type": "markdown",
   "metadata": {},
   "source": [
    "从上面数据和图表看到，用户记录数大都都分布在0~50，少量用户记录甚至超过了10000条，下一步对用户记录数分布继续探索"
   ]
  },
  {
   "cell_type": "code",
   "execution_count": null,
   "metadata": {},
   "outputs": [
    {
     "data": {
      "text/html": [
       "<div>\n",
       "<style scoped>\n",
       "    .dataframe tbody tr th:only-of-type {\n",
       "        vertical-align: middle;\n",
       "    }\n",
       "\n",
       "    .dataframe tbody tr th {\n",
       "        vertical-align: top;\n",
       "    }\n",
       "\n",
       "    .dataframe thead th {\n",
       "        text-align: right;\n",
       "    }\n",
       "</style>\n",
       "<table border=\"1\" class=\"dataframe\">\n",
       "  <thead>\n",
       "    <tr style=\"text-align: right;\">\n",
       "      <th></th>\n",
       "      <th></th>\n",
       "      <th></th>\n",
       "      <th>人数</th>\n",
       "      <th>人数占比</th>\n",
       "    </tr>\n",
       "    <tr>\n",
       "      <th>is_train</th>\n",
       "      <th>buyer_country_id</th>\n",
       "      <th>记录数</th>\n",
       "      <th></th>\n",
       "      <th></th>\n",
       "    </tr>\n",
       "  </thead>\n",
       "  <tbody>\n",
       "    <tr>\n",
       "      <th rowspan=\"5\" valign=\"top\">1</th>\n",
       "      <th rowspan=\"5\" valign=\"top\">xx</th>\n",
       "      <th>8</th>\n",
       "      <td>118155</td>\n",
       "      <td>0.18</td>\n",
       "    </tr>\n",
       "    <tr>\n",
       "      <th>9</th>\n",
       "      <td>91757</td>\n",
       "      <td>0.14</td>\n",
       "    </tr>\n",
       "    <tr>\n",
       "      <th>10</th>\n",
       "      <td>72936</td>\n",
       "      <td>0.11</td>\n",
       "    </tr>\n",
       "    <tr>\n",
       "      <th>11</th>\n",
       "      <td>57678</td>\n",
       "      <td>0.09</td>\n",
       "    </tr>\n",
       "    <tr>\n",
       "      <th>12</th>\n",
       "      <td>46534</td>\n",
       "      <td>0.07</td>\n",
       "    </tr>\n",
       "  </tbody>\n",
       "</table>\n",
       "</div>"
      ],
      "text/plain": [
       "                                   人数  人数占比\n",
       "is_train buyer_country_id 记录数              \n",
       "1        xx               8    118155  0.18\n",
       "                          9     91757  0.14\n",
       "                          10    72936  0.11\n",
       "                          11    57678  0.09\n",
       "                          12    46534  0.07"
      ]
     },
     "execution_count": 25,
     "metadata": {},
     "output_type": "execute_result"
    }
   ],
   "source": [
    "admin_cnt.columns = ['记录数', '占比']\n",
    "admin_user_cnt = groupby_cnt_ratio(admin_cnt, '记录数')\n",
    "admin_user_cnt.columns = ['人数', '人数占比']\n",
    "admin_user_cnt.head()"
   ]
  },
  {
   "cell_type": "code",
   "execution_count": null,
   "metadata": {},
   "outputs": [
    {
     "data": {
      "text/html": [
       "<div>\n",
       "<style scoped>\n",
       "    .dataframe tbody tr th:only-of-type {\n",
       "        vertical-align: middle;\n",
       "    }\n",
       "\n",
       "    .dataframe tbody tr th {\n",
       "        vertical-align: top;\n",
       "    }\n",
       "\n",
       "    .dataframe thead th {\n",
       "        text-align: right;\n",
       "    }\n",
       "</style>\n",
       "<table border=\"1\" class=\"dataframe\">\n",
       "  <thead>\n",
       "    <tr style=\"text-align: right;\">\n",
       "      <th>记录数</th>\n",
       "      <th>8</th>\n",
       "      <th>9</th>\n",
       "      <th>10</th>\n",
       "      <th>11</th>\n",
       "      <th>12</th>\n",
       "      <th>13</th>\n",
       "      <th>14</th>\n",
       "      <th>15</th>\n",
       "      <th>16</th>\n",
       "      <th>17</th>\n",
       "      <th>18</th>\n",
       "      <th>19</th>\n",
       "      <th>20</th>\n",
       "      <th>21</th>\n",
       "      <th>22</th>\n",
       "      <th>23</th>\n",
       "      <th>24</th>\n",
       "      <th>25</th>\n",
       "      <th>26</th>\n",
       "      <th>27</th>\n",
       "      <th>28</th>\n",
       "      <th>29</th>\n",
       "      <th>30</th>\n",
       "      <th>31</th>\n",
       "      <th>32</th>\n",
       "      <th>33</th>\n",
       "      <th>34</th>\n",
       "      <th>35</th>\n",
       "      <th>36</th>\n",
       "      <th>37</th>\n",
       "      <th>38</th>\n",
       "      <th>39</th>\n",
       "      <th>40</th>\n",
       "      <th>41</th>\n",
       "      <th>42</th>\n",
       "      <th>43</th>\n",
       "      <th>44</th>\n",
       "      <th>45</th>\n",
       "      <th>46</th>\n",
       "      <th>47</th>\n",
       "      <th>48</th>\n",
       "      <th>49</th>\n",
       "      <th>50</th>\n",
       "      <th>51</th>\n",
       "      <th>52</th>\n",
       "      <th>53</th>\n",
       "      <th>54</th>\n",
       "      <th>55</th>\n",
       "      <th>56</th>\n",
       "      <th>60</th>\n",
       "      <th>...</th>\n",
       "      <th>346</th>\n",
       "      <th>348</th>\n",
       "      <th>352</th>\n",
       "      <th>355</th>\n",
       "      <th>360</th>\n",
       "      <th>361</th>\n",
       "      <th>457</th>\n",
       "      <th>460</th>\n",
       "      <th>461</th>\n",
       "      <th>618</th>\n",
       "      <th>573</th>\n",
       "      <th>582</th>\n",
       "      <th>584</th>\n",
       "      <th>585</th>\n",
       "      <th>594</th>\n",
       "      <th>597</th>\n",
       "      <th>604</th>\n",
       "      <th>607</th>\n",
       "      <th>619</th>\n",
       "      <th>568</th>\n",
       "      <th>630</th>\n",
       "      <th>638</th>\n",
       "      <th>640</th>\n",
       "      <th>649</th>\n",
       "      <th>655</th>\n",
       "      <th>656</th>\n",
       "      <th>659</th>\n",
       "      <th>660</th>\n",
       "      <th>570</th>\n",
       "      <th>559</th>\n",
       "      <th>468</th>\n",
       "      <th>504</th>\n",
       "      <th>475</th>\n",
       "      <th>476</th>\n",
       "      <th>477</th>\n",
       "      <th>479</th>\n",
       "      <th>481</th>\n",
       "      <th>488</th>\n",
       "      <th>494</th>\n",
       "      <th>497</th>\n",
       "      <th>521</th>\n",
       "      <th>556</th>\n",
       "      <th>526</th>\n",
       "      <th>528</th>\n",
       "      <th>529</th>\n",
       "      <th>537</th>\n",
       "      <th>545</th>\n",
       "      <th>549</th>\n",
       "      <th>550</th>\n",
       "      <th>554</th>\n",
       "    </tr>\n",
       "  </thead>\n",
       "  <tbody>\n",
       "    <tr>\n",
       "      <th>人数</th>\n",
       "      <td>118155.00</td>\n",
       "      <td>91757.00</td>\n",
       "      <td>72936.00</td>\n",
       "      <td>57678.00</td>\n",
       "      <td>46534.00</td>\n",
       "      <td>38114.00</td>\n",
       "      <td>31432.00</td>\n",
       "      <td>26735.00</td>\n",
       "      <td>22352.00</td>\n",
       "      <td>18742.00</td>\n",
       "      <td>16113.00</td>\n",
       "      <td>13677.00</td>\n",
       "      <td>12092.00</td>\n",
       "      <td>10097.00</td>\n",
       "      <td>8974.00</td>\n",
       "      <td>7749.00</td>\n",
       "      <td>6816.00</td>\n",
       "      <td>5910.00</td>\n",
       "      <td>5387.00</td>\n",
       "      <td>4751.00</td>\n",
       "      <td>4166.00</td>\n",
       "      <td>3769.00</td>\n",
       "      <td>3525.00</td>\n",
       "      <td>3005.00</td>\n",
       "      <td>2828.00</td>\n",
       "      <td>2476.00</td>\n",
       "      <td>2289.00</td>\n",
       "      <td>2069.00</td>\n",
       "      <td>1817.00</td>\n",
       "      <td>1683.00</td>\n",
       "      <td>1626.00</td>\n",
       "      <td>1464.00</td>\n",
       "      <td>1364.00</td>\n",
       "      <td>1218.00</td>\n",
       "      <td>1150.00</td>\n",
       "      <td>1001.00</td>\n",
       "      <td>988.00</td>\n",
       "      <td>963.00</td>\n",
       "      <td>802.00</td>\n",
       "      <td>768.00</td>\n",
       "      <td>710.00</td>\n",
       "      <td>681.00</td>\n",
       "      <td>597.00</td>\n",
       "      <td>595.00</td>\n",
       "      <td>548.00</td>\n",
       "      <td>533.00</td>\n",
       "      <td>503.00</td>\n",
       "      <td>473.00</td>\n",
       "      <td>448.00</td>\n",
       "      <td>428.00</td>\n",
       "      <td>...</td>\n",
       "      <td>1.00</td>\n",
       "      <td>1.00</td>\n",
       "      <td>1.00</td>\n",
       "      <td>1.00</td>\n",
       "      <td>1.00</td>\n",
       "      <td>1.00</td>\n",
       "      <td>1.00</td>\n",
       "      <td>1.00</td>\n",
       "      <td>1.00</td>\n",
       "      <td>1.00</td>\n",
       "      <td>1.00</td>\n",
       "      <td>1.00</td>\n",
       "      <td>1.00</td>\n",
       "      <td>1.00</td>\n",
       "      <td>1.00</td>\n",
       "      <td>1.00</td>\n",
       "      <td>1.00</td>\n",
       "      <td>1.00</td>\n",
       "      <td>1.00</td>\n",
       "      <td>1.00</td>\n",
       "      <td>1.00</td>\n",
       "      <td>1.00</td>\n",
       "      <td>1.00</td>\n",
       "      <td>1.00</td>\n",
       "      <td>1.00</td>\n",
       "      <td>1.00</td>\n",
       "      <td>1.00</td>\n",
       "      <td>1.00</td>\n",
       "      <td>1.00</td>\n",
       "      <td>1.00</td>\n",
       "      <td>1.00</td>\n",
       "      <td>1.00</td>\n",
       "      <td>1.00</td>\n",
       "      <td>1.00</td>\n",
       "      <td>1.00</td>\n",
       "      <td>1.00</td>\n",
       "      <td>1.00</td>\n",
       "      <td>1.00</td>\n",
       "      <td>1.00</td>\n",
       "      <td>1.00</td>\n",
       "      <td>1.00</td>\n",
       "      <td>1.00</td>\n",
       "      <td>1.00</td>\n",
       "      <td>1.00</td>\n",
       "      <td>1.00</td>\n",
       "      <td>1.00</td>\n",
       "      <td>1.00</td>\n",
       "      <td>1.00</td>\n",
       "      <td>1.00</td>\n",
       "      <td>1.00</td>\n",
       "    </tr>\n",
       "    <tr>\n",
       "      <th>人数占比</th>\n",
       "      <td>0.18</td>\n",
       "      <td>0.14</td>\n",
       "      <td>0.11</td>\n",
       "      <td>0.09</td>\n",
       "      <td>0.07</td>\n",
       "      <td>0.06</td>\n",
       "      <td>0.05</td>\n",
       "      <td>0.04</td>\n",
       "      <td>0.03</td>\n",
       "      <td>0.03</td>\n",
       "      <td>0.02</td>\n",
       "      <td>0.02</td>\n",
       "      <td>0.02</td>\n",
       "      <td>0.02</td>\n",
       "      <td>0.01</td>\n",
       "      <td>0.01</td>\n",
       "      <td>0.01</td>\n",
       "      <td>0.01</td>\n",
       "      <td>0.01</td>\n",
       "      <td>0.01</td>\n",
       "      <td>0.01</td>\n",
       "      <td>0.01</td>\n",
       "      <td>0.01</td>\n",
       "      <td>0.00</td>\n",
       "      <td>0.00</td>\n",
       "      <td>0.00</td>\n",
       "      <td>0.00</td>\n",
       "      <td>0.00</td>\n",
       "      <td>0.00</td>\n",
       "      <td>0.00</td>\n",
       "      <td>0.00</td>\n",
       "      <td>0.00</td>\n",
       "      <td>0.00</td>\n",
       "      <td>0.00</td>\n",
       "      <td>0.00</td>\n",
       "      <td>0.00</td>\n",
       "      <td>0.00</td>\n",
       "      <td>0.00</td>\n",
       "      <td>0.00</td>\n",
       "      <td>0.00</td>\n",
       "      <td>0.00</td>\n",
       "      <td>0.00</td>\n",
       "      <td>0.00</td>\n",
       "      <td>0.00</td>\n",
       "      <td>0.00</td>\n",
       "      <td>0.00</td>\n",
       "      <td>0.00</td>\n",
       "      <td>0.00</td>\n",
       "      <td>0.00</td>\n",
       "      <td>0.00</td>\n",
       "      <td>...</td>\n",
       "      <td>0.00</td>\n",
       "      <td>0.00</td>\n",
       "      <td>0.00</td>\n",
       "      <td>0.00</td>\n",
       "      <td>0.00</td>\n",
       "      <td>0.00</td>\n",
       "      <td>0.00</td>\n",
       "      <td>0.00</td>\n",
       "      <td>0.00</td>\n",
       "      <td>0.00</td>\n",
       "      <td>0.00</td>\n",
       "      <td>0.00</td>\n",
       "      <td>0.00</td>\n",
       "      <td>0.00</td>\n",
       "      <td>0.00</td>\n",
       "      <td>0.00</td>\n",
       "      <td>0.00</td>\n",
       "      <td>0.00</td>\n",
       "      <td>0.00</td>\n",
       "      <td>0.00</td>\n",
       "      <td>0.00</td>\n",
       "      <td>0.00</td>\n",
       "      <td>0.00</td>\n",
       "      <td>0.00</td>\n",
       "      <td>0.00</td>\n",
       "      <td>0.00</td>\n",
       "      <td>0.00</td>\n",
       "      <td>0.00</td>\n",
       "      <td>0.00</td>\n",
       "      <td>0.00</td>\n",
       "      <td>0.00</td>\n",
       "      <td>0.00</td>\n",
       "      <td>0.00</td>\n",
       "      <td>0.00</td>\n",
       "      <td>0.00</td>\n",
       "      <td>0.00</td>\n",
       "      <td>0.00</td>\n",
       "      <td>0.00</td>\n",
       "      <td>0.00</td>\n",
       "      <td>0.00</td>\n",
       "      <td>0.00</td>\n",
       "      <td>0.00</td>\n",
       "      <td>0.00</td>\n",
       "      <td>0.00</td>\n",
       "      <td>0.00</td>\n",
       "      <td>0.00</td>\n",
       "      <td>0.00</td>\n",
       "      <td>0.00</td>\n",
       "      <td>0.00</td>\n",
       "      <td>0.00</td>\n",
       "    </tr>\n",
       "  </tbody>\n",
       "</table>\n",
       "<p>2 rows × 506 columns</p>\n",
       "</div>"
      ],
      "text/plain": [
       "记录数        8        9        10       11       12       13       14       15   \\\n",
       "人数   118155.00 91757.00 72936.00 57678.00 46534.00 38114.00 31432.00 26735.00   \n",
       "人数占比      0.18     0.14     0.11     0.09     0.07     0.06     0.05     0.04   \n",
       "\n",
       "记录数       16       17       18       19       20       21      22      23   \\\n",
       "人数   22352.00 18742.00 16113.00 13677.00 12092.00 10097.00 8974.00 7749.00   \n",
       "人数占比     0.03     0.03     0.02     0.02     0.02     0.02    0.01    0.01   \n",
       "\n",
       "记录数      24      25      26      27      28      29      30      31      32   \\\n",
       "人数   6816.00 5910.00 5387.00 4751.00 4166.00 3769.00 3525.00 3005.00 2828.00   \n",
       "人数占比    0.01    0.01    0.01    0.01    0.01    0.01    0.01    0.00    0.00   \n",
       "\n",
       "记录数      33      34      35      36      37      38      39      40      41   \\\n",
       "人数   2476.00 2289.00 2069.00 1817.00 1683.00 1626.00 1464.00 1364.00 1218.00   \n",
       "人数占比    0.00    0.00    0.00    0.00    0.00    0.00    0.00    0.00    0.00   \n",
       "\n",
       "记录数      42      43     44     45     46     47     48     49     50     51   \\\n",
       "人数   1150.00 1001.00 988.00 963.00 802.00 768.00 710.00 681.00 597.00 595.00   \n",
       "人数占比    0.00    0.00   0.00   0.00   0.00   0.00   0.00   0.00   0.00   0.00   \n",
       "\n",
       "记录数     52     53     54     55     56     60   ...  346  348  352  355  360  \\\n",
       "人数   548.00 533.00 503.00 473.00 448.00 428.00  ... 1.00 1.00 1.00 1.00 1.00   \n",
       "人数占比   0.00   0.00   0.00   0.00   0.00   0.00  ... 0.00 0.00 0.00 0.00 0.00   \n",
       "\n",
       "记录数   361  457  460  461  618  573  582  584  585  594  597  604  607  619  \\\n",
       "人数   1.00 1.00 1.00 1.00 1.00 1.00 1.00 1.00 1.00 1.00 1.00 1.00 1.00 1.00   \n",
       "人数占比 0.00 0.00 0.00 0.00 0.00 0.00 0.00 0.00 0.00 0.00 0.00 0.00 0.00 0.00   \n",
       "\n",
       "记录数   568  630  638  640  649  655  656  659  660  570  559  468  504  475  \\\n",
       "人数   1.00 1.00 1.00 1.00 1.00 1.00 1.00 1.00 1.00 1.00 1.00 1.00 1.00 1.00   \n",
       "人数占比 0.00 0.00 0.00 0.00 0.00 0.00 0.00 0.00 0.00 0.00 0.00 0.00 0.00 0.00   \n",
       "\n",
       "记录数   476  477  479  481  488  494  497  521  556  526  528  529  537  545  \\\n",
       "人数   1.00 1.00 1.00 1.00 1.00 1.00 1.00 1.00 1.00 1.00 1.00 1.00 1.00 1.00   \n",
       "人数占比 0.00 0.00 0.00 0.00 0.00 0.00 0.00 0.00 0.00 0.00 0.00 0.00 0.00 0.00   \n",
       "\n",
       "记录数   549  550  554  \n",
       "人数   1.00 1.00 1.00  \n",
       "人数占比 0.00 0.00 0.00  \n",
       "\n",
       "[2 rows x 506 columns]"
      ]
     },
     "execution_count": 26,
     "metadata": {},
     "output_type": "execute_result"
    }
   ],
   "source": [
    "# xx国——用户记录数与用户数\n",
    "admin_user_cnt.loc[(1,'xx')][['人数','人数占比']].T"
   ]
  },
  {
   "cell_type": "code",
   "execution_count": null,
   "metadata": {},
   "outputs": [
    {
     "data": {
      "text/html": [
       "<div>\n",
       "<style scoped>\n",
       "    .dataframe tbody tr th:only-of-type {\n",
       "        vertical-align: middle;\n",
       "    }\n",
       "\n",
       "    .dataframe tbody tr th {\n",
       "        vertical-align: top;\n",
       "    }\n",
       "\n",
       "    .dataframe thead tr th {\n",
       "        text-align: left;\n",
       "    }\n",
       "\n",
       "    .dataframe thead tr:last-of-type th {\n",
       "        text-align: right;\n",
       "    }\n",
       "</style>\n",
       "<table border=\"1\" class=\"dataframe\">\n",
       "  <thead>\n",
       "    <tr>\n",
       "      <th></th>\n",
       "      <th></th>\n",
       "      <th colspan=\"2\" halign=\"left\">人数占比</th>\n",
       "    </tr>\n",
       "    <tr>\n",
       "      <th></th>\n",
       "      <th>is_train</th>\n",
       "      <th>0</th>\n",
       "      <th>1</th>\n",
       "    </tr>\n",
       "    <tr>\n",
       "      <th>buyer_country_id</th>\n",
       "      <th>记录数</th>\n",
       "      <th></th>\n",
       "      <th></th>\n",
       "    </tr>\n",
       "  </thead>\n",
       "  <tbody>\n",
       "    <tr>\n",
       "      <th rowspan=\"10\" valign=\"top\">yy</th>\n",
       "      <th>8</th>\n",
       "      <td>0.13</td>\n",
       "      <td>0.16</td>\n",
       "    </tr>\n",
       "    <tr>\n",
       "      <th>9</th>\n",
       "      <td>0.10</td>\n",
       "      <td>0.13</td>\n",
       "    </tr>\n",
       "    <tr>\n",
       "      <th>10</th>\n",
       "      <td>0.09</td>\n",
       "      <td>0.10</td>\n",
       "    </tr>\n",
       "    <tr>\n",
       "      <th>11</th>\n",
       "      <td>0.08</td>\n",
       "      <td>0.08</td>\n",
       "    </tr>\n",
       "    <tr>\n",
       "      <th>12</th>\n",
       "      <td>0.06</td>\n",
       "      <td>0.07</td>\n",
       "    </tr>\n",
       "    <tr>\n",
       "      <th>13</th>\n",
       "      <td>0.05</td>\n",
       "      <td>0.06</td>\n",
       "    </tr>\n",
       "    <tr>\n",
       "      <th>14</th>\n",
       "      <td>0.04</td>\n",
       "      <td>0.05</td>\n",
       "    </tr>\n",
       "    <tr>\n",
       "      <th>15</th>\n",
       "      <td>0.04</td>\n",
       "      <td>0.04</td>\n",
       "    </tr>\n",
       "    <tr>\n",
       "      <th>16</th>\n",
       "      <td>0.03</td>\n",
       "      <td>0.03</td>\n",
       "    </tr>\n",
       "    <tr>\n",
       "      <th>17</th>\n",
       "      <td>0.03</td>\n",
       "      <td>0.03</td>\n",
       "    </tr>\n",
       "  </tbody>\n",
       "</table>\n",
       "</div>"
      ],
      "text/plain": [
       "                     人数占比     \n",
       "is_train                0    1\n",
       "buyer_country_id 记录数          \n",
       "yy               8   0.13 0.16\n",
       "                 9   0.10 0.13\n",
       "                 10  0.09 0.10\n",
       "                 11  0.08 0.08\n",
       "                 12  0.06 0.07\n",
       "                 13  0.05 0.06\n",
       "                 14  0.04 0.05\n",
       "                 15  0.04 0.04\n",
       "                 16  0.03 0.03\n",
       "                 17  0.03 0.03"
      ]
     },
     "execution_count": 27,
     "metadata": {},
     "output_type": "execute_result"
    }
   ],
   "source": [
    "# yy国——记录数与用户数占比\n",
    "admin_user_cnt.loc[([1,0],'yy',slice(None))][['人数','人数占比']].unstack(0).drop('人数',1).head(10)"
   ]
  },
  {
   "cell_type": "code",
   "execution_count": null,
   "metadata": {},
   "outputs": [
    {
     "data": {
      "image/png": "[encoded data removed]",
      "text/plain": [
       "<Figure size 1152x720 with 2 Axes>"
      ]
     },
     "metadata": {
      "needs_background": "light"
     },
     "output_type": "display_data"
    }
   ],
   "source": [
    "fig, ax = plt.subplots(2, 1, figsize=(16,10))\n",
    "admin_plot = admin_user_cnt.reset_index()\n",
    "sns.barplot(x='记录数', y='人数占比', data=admin_plot[(admin_plot['记录数']<50) & (admin_plot['buyer_country_id']=='xx')], \n",
    "            estimator=np.mean, ax=ax[0]).set_title('训练集——xx国记录数与人数占比');\n",
    "\n",
    "sns.barplot(x='记录数', y='人数占比', hue='is_train', data=admin_plot[(admin_plot['记录数']<50) & (admin_plot['buyer_country_id']=='yy')], \n",
    "            estimator=np.mean, ax=ax[1]).set_title('yy国记录数与人数占比');"
   ]
  },
  {
   "cell_type": "markdown",
   "metadata": {},
   "source": [
    "用户记录数进一步探查结论：\n",
    "    * 不管是训练集还是验证集，99%的用户购买记录都在50条内，这是比较符合正常逻辑\n",
    "    * TODO:对于发生大量购买行为的用户，后面再单独探查，是否有其他规律或疑似刷单现象"
   ]
  },
  {
   "cell_type": "markdown",
   "metadata": {},
   "source": [
    "### item_id 商品编号"
   ]
  },
  {
   "cell_type": "code",
   "execution_count": null,
   "metadata": {},
   "outputs": [
    {
     "name": "stdout",
     "output_type": "stream",
     "text": [
      "商品表中商品数： 2832669\n",
      "训练集中商品数： 2812048\n",
      "验证集中商品数： 104735\n",
      "仅训练集有的商品数： 2735801\n",
      "仅验证集有的商品数： 28488\n",
      "训练集验证集共同商品数： 76247\n",
      "训练集中不在商品表的商品数： 7733\n",
      "验证集中不在商品表的商品数： 313\n"
     ]
    }
   ],
   "source": [
    "print('商品表中商品数：',len(item['item_id'].unique()))\n",
    "print('训练集中商品数：',len(df[train]['item_id'].unique()))\n",
    "print('验证集中商品数：',len(df[test]['item_id'].unique()))\n",
    "print('仅训练集有的商品数：',len(list(set(df[train]['item_id'].unique()).difference(set(df[test]['item_id'].unique())))))\n",
    "print('仅验证集有的商品数：',len(list(set(df[test]['item_id'].unique()).difference(set(df[train]['item_id'].unique())))))\n",
    "print('训练集验证集共同商品数：',len(list(set(df[train]['item_id'].unique()).intersection(set(df[test]['item_id'].unique())))))\n",
    "print('训练集中不在商品表的商品数：',len(list(set(df[train]['item_id'].unique()).difference(set(item['item_id'].unique())))))\n",
    "print('验证集中不在商品表的商品数：',len(list(set(df[test]['item_id'].unique()).difference(set(item['item_id'].unique())))))"
   ]
  },
  {
   "cell_type": "markdown",
   "metadata": {},
   "source": [
    "#### 商品销量"
   ]
  },
  {
   "cell_type": "code",
   "execution_count": null,
   "metadata": {},
   "outputs": [],
   "source": [
    "item_cnt = groupby_cnt_ratio(df, 'item_id')\n",
    "item_cnt.columns=['销量', '总销量占比']\n",
    "item_cnt.reset_index(inplace=True)"
   ]
  },
  {
   "cell_type": "code",
   "execution_count": null,
   "metadata": {},
   "outputs": [],
   "source": [
    "top_item_plot = item_cnt.groupby(['is_train','buyer_country_id']).head(10)"
   ]
  },
  {
   "cell_type": "code",
   "execution_count": null,
   "metadata": {},
   "outputs": [
    {
     "data": {
      "image/png": "[encoded data removed]",
      "text/plain": [
       "<Figure size 1152x864 with 2 Axes>"
      ]
     },
     "metadata": {
      "needs_background": "light"
     },
     "output_type": "display_data"
    }
   ],
   "source": [
    "fig, ax = plt.subplots(2, 1, figsize=(16,12))\n",
    "sns.barplot(x='item_id', y='销量', data=top_item_plot[top_item_plot['buyer_country_id']=='xx'], \n",
    "            order=top_item_plot['item_id'][top_item_plot['buyer_country_id']=='xx'], ax=ax[0], estimator=np.mean).set_title('xx国-TOP热销商品')\n",
    "sns.barplot(x='item_id', y='销量', hue='is_train', data=top_item_plot[top_item_plot['buyer_country_id']=='yy'], \n",
    "            order=top_item_plot['item_id'][top_item_plot['buyer_country_id']=='yy'], ax=ax[1], estimator=np.mean).set_title('yy国-TOP热销商品');"
   ]
  },
  {
   "cell_type": "markdown",
   "metadata": {},
   "source": [
    "初步数据发现：\n",
    "* 训练集中出售最多商品是12691565，卖了112659次。\n",
    "* 训练集中出售最多商品是5595070，卖了112659次。\n",
    "* 大部分商品只有1次出售记录，符合电商长尾属性\n",
    "* 比较奇怪的yy国中，训练集和测试集中热销商品并不太一样"
   ]
  },
  {
   "cell_type": "markdown",
   "metadata": {},
   "source": [
    "#### 整体商品销量分布"
   ]
  },
  {
   "cell_type": "code",
   "execution_count": null,
   "metadata": {},
   "outputs": [],
   "source": [
    "item_order_cnt = groupby_cnt_ratio(item_cnt, '销量')\n",
    "item_order_cnt.columns = ['商品数', '占比']"
   ]
  },
  {
   "cell_type": "code",
   "execution_count": null,
   "metadata": {},
   "outputs": [
    {
     "data": {
      "text/html": [
       "<div>\n",
       "<style scoped>\n",
       "    .dataframe tbody tr th:only-of-type {\n",
       "        vertical-align: middle;\n",
       "    }\n",
       "\n",
       "    .dataframe tbody tr th {\n",
       "        vertical-align: top;\n",
       "    }\n",
       "\n",
       "    .dataframe thead th {\n",
       "        text-align: right;\n",
       "    }\n",
       "</style>\n",
       "<table border=\"1\" class=\"dataframe\">\n",
       "  <thead>\n",
       "    <tr style=\"text-align: right;\">\n",
       "      <th></th>\n",
       "      <th></th>\n",
       "      <th></th>\n",
       "      <th>商品数</th>\n",
       "      <th>占比</th>\n",
       "    </tr>\n",
       "    <tr>\n",
       "      <th>is_train</th>\n",
       "      <th>buyer_country_id</th>\n",
       "      <th>销量</th>\n",
       "      <th></th>\n",
       "      <th></th>\n",
       "    </tr>\n",
       "  </thead>\n",
       "  <tbody>\n",
       "    <tr>\n",
       "      <th rowspan=\"5\" valign=\"top\">1</th>\n",
       "      <th rowspan=\"5\" valign=\"top\">xx</th>\n",
       "      <th>1</th>\n",
       "      <td>1331056</td>\n",
       "      <td>0.58</td>\n",
       "    </tr>\n",
       "    <tr>\n",
       "      <th>2</th>\n",
       "      <td>361829</td>\n",
       "      <td>0.16</td>\n",
       "    </tr>\n",
       "    <tr>\n",
       "      <th>3</th>\n",
       "      <td>164953</td>\n",
       "      <td>0.07</td>\n",
       "    </tr>\n",
       "    <tr>\n",
       "      <th>4</th>\n",
       "      <td>95629</td>\n",
       "      <td>0.04</td>\n",
       "    </tr>\n",
       "    <tr>\n",
       "      <th>5</th>\n",
       "      <td>61551</td>\n",
       "      <td>0.03</td>\n",
       "    </tr>\n",
       "    <tr>\n",
       "      <th rowspan=\"5\" valign=\"top\">0</th>\n",
       "      <th rowspan=\"5\" valign=\"top\">yy</th>\n",
       "      <th>1</th>\n",
       "      <td>81212</td>\n",
       "      <td>0.78</td>\n",
       "    </tr>\n",
       "    <tr>\n",
       "      <th>2</th>\n",
       "      <td>13083</td>\n",
       "      <td>0.12</td>\n",
       "    </tr>\n",
       "    <tr>\n",
       "      <th>3</th>\n",
       "      <td>4350</td>\n",
       "      <td>0.04</td>\n",
       "    </tr>\n",
       "    <tr>\n",
       "      <th>4</th>\n",
       "      <td>2123</td>\n",
       "      <td>0.02</td>\n",
       "    </tr>\n",
       "    <tr>\n",
       "      <th>5</th>\n",
       "      <td>1200</td>\n",
       "      <td>0.01</td>\n",
       "    </tr>\n",
       "    <tr>\n",
       "      <th rowspan=\"5\" valign=\"top\">1</th>\n",
       "      <th rowspan=\"5\" valign=\"top\">yy</th>\n",
       "      <th>1</th>\n",
       "      <td>625041</td>\n",
       "      <td>0.67</td>\n",
       "    </tr>\n",
       "    <tr>\n",
       "      <th>2</th>\n",
       "      <td>139607</td>\n",
       "      <td>0.15</td>\n",
       "    </tr>\n",
       "    <tr>\n",
       "      <th>3</th>\n",
       "      <td>55274</td>\n",
       "      <td>0.06</td>\n",
       "    </tr>\n",
       "    <tr>\n",
       "      <th>4</th>\n",
       "      <td>29848</td>\n",
       "      <td>0.03</td>\n",
       "    </tr>\n",
       "    <tr>\n",
       "      <th>5</th>\n",
       "      <td>17782</td>\n",
       "      <td>0.02</td>\n",
       "    </tr>\n",
       "  </tbody>\n",
       "</table>\n",
       "</div>"
      ],
      "text/plain": [
       "                                  商品数   占比\n",
       "is_train buyer_country_id 销量              \n",
       "1        xx               1   1331056 0.58\n",
       "                          2    361829 0.16\n",
       "                          3    164953 0.07\n",
       "                          4     95629 0.04\n",
       "                          5     61551 0.03\n",
       "0        yy               1     81212 0.78\n",
       "                          2     13083 0.12\n",
       "                          3      4350 0.04\n",
       "                          4      2123 0.02\n",
       "                          5      1200 0.01\n",
       "1        yy               1    625041 0.67\n",
       "                          2    139607 0.15\n",
       "                          3     55274 0.06\n",
       "                          4     29848 0.03\n",
       "                          5     17782 0.02"
      ]
     },
     "execution_count": 34,
     "metadata": {},
     "output_type": "execute_result"
    }
   ],
   "source": [
    "item_order_cnt.groupby(['is_train','buyer_country_id']).head(5).sort_values(by=['buyer_country_id','is_train'])"
   ]
  },
  {
   "cell_type": "code",
   "execution_count": null,
   "metadata": {},
   "outputs": [],
   "source": [
    "item_order_plot = item_order_cnt.reset_index()\n",
    "item_order_plot = item_order_plot[item_order_plot['销量']<=8]\n",
    "\n",
    "xx_item_order_plot = item_order_plot[item_order_plot['buyer_country_id']=='xx']\n",
    "yy_item_order_plot = item_order_plot[item_order_plot['buyer_country_id']=='yy']\n",
    "yy_item_order_plot_1 = yy_item_order_plot[yy_item_order_plot['is_train']==1]\n",
    "yy_item_order_plot_0 = yy_item_order_plot[yy_item_order_plot['is_train']==0]"
   ]
  },
  {
   "cell_type": "code",
   "execution_count": null,
   "metadata": {},
   "outputs": [
    {
     "data": {
      "image/png": "[encoded data removed]",
      "text/plain": [
       "<Figure size 1152x864 with 3 Axes>"
      ]
     },
     "metadata": {},
     "output_type": "display_data"
    }
   ],
   "source": [
    "# 商品销量饼图\n",
    "def text_style_func(pct, allvals):\n",
    "    absolute = int(pct/100.*np.sum(allvals))\n",
    "    return \"{:.1f}%({:d})\".format(pct, absolute)\n",
    "\n",
    "def pie_param(ax, df, color_palette):\n",
    "    return ax.pie(df['占比'].values, autopct=lambda pct: text_style_func(pct, df['商品数']), labels = df['销量'], \n",
    "                  explode = [0.1]+ np.zeros(len(df)-1).tolist(), pctdistance = 0.7, colors=sns.color_palette(color_palette, 8))\n",
    "\n",
    "fig, ax = plt.subplots(1, 3, figsize=(16,12))\n",
    "ax[0].set(xlabel='xx国-商品销量')\n",
    "ax[0].set(ylabel='xx国-商品数量比例')\n",
    "pie_param(ax[0], xx_item_order_plot, \"coolwarm\")\n",
    "ax[1].set(xlabel='yy国-训练集商品销量')\n",
    "pie_param(ax[1], yy_item_order_plot_1, \"Set3\")\n",
    "ax[2].set(xlabel='yy国测试集集商品销量')\n",
    "pie_param(ax[2], yy_item_order_plot_0, \"Set3\");"
   ]
  },
  {
   "cell_type": "code",
   "execution_count": null,
   "metadata": {},
   "outputs": [
    {
     "name": "stdout",
     "output_type": "stream",
     "text": [
      "0.9215598591503256\n",
      "0.9643666018897873\n",
      "0.9884661288012603\n"
     ]
    }
   ],
   "source": [
    "print(xx_item_order_plot.head(10)['占比'].sum())\n",
    "print(yy_item_order_plot_1.head(10)['占比'].sum())\n",
    "print(yy_item_order_plot_0.head(10)['占比'].sum())"
   ]
  },
  {
   "cell_type": "markdown",
   "metadata": {},
   "source": [
    "总体来看，由于训练集数据远多于测试集数据：\n",
    "* 训练集商品销量大于测试集商品销量\n",
    "* 长尾趋势严重，热门商品少，大量商品仅有数次销售记录，1单商品占了绝大部分(均超过50%)\n",
    "* 训练集中92%的商品销量不超过10件，而在测试集中97%的商品销量不超过10件\n",
    "* 此外训练集中yy国的商品销量略大于测试集"
   ]
  },
  {
   "cell_type": "markdown",
   "metadata": {},
   "source": [
    "### cate_id 品类编号"
   ]
  },
  {
   "cell_type": "code",
   "execution_count": null,
   "metadata": {},
   "outputs": [
    {
     "name": "stdout",
     "output_type": "stream",
     "text": [
      "商品品类数 4243\n",
      "训练集商品品类数 4239\n",
      "测试集商品品类数 2727\n"
     ]
    }
   ],
   "source": [
    "print('商品品类数', len(item['cate_id'].unique()))\n",
    "print('训练集商品品类数', len(df[train]['cate_id'].unique()))\n",
    "print('测试集商品品类数', len(df[test]['cate_id'].unique()))"
   ]
  },
  {
   "cell_type": "markdown",
   "metadata": {},
   "source": [
    "#### 各个品类下商品数量"
   ]
  },
  {
   "cell_type": "code",
   "execution_count": null,
   "metadata": {},
   "outputs": [
    {
     "data": {
      "text/html": [
       "<div>\n",
       "<style scoped>\n",
       "    .dataframe tbody tr th:only-of-type {\n",
       "        vertical-align: middle;\n",
       "    }\n",
       "\n",
       "    .dataframe tbody tr th {\n",
       "        vertical-align: top;\n",
       "    }\n",
       "\n",
       "    .dataframe thead th {\n",
       "        text-align: right;\n",
       "    }\n",
       "</style>\n",
       "<table border=\"1\" class=\"dataframe\">\n",
       "  <thead>\n",
       "    <tr style=\"text-align: right;\">\n",
       "      <th></th>\n",
       "      <th>cate_id</th>\n",
       "      <th>count</th>\n",
       "    </tr>\n",
       "  </thead>\n",
       "  <tbody>\n",
       "    <tr>\n",
       "      <th>578</th>\n",
       "      <td>579</td>\n",
       "      <td>170074</td>\n",
       "    </tr>\n",
       "    <tr>\n",
       "      <th>2395</th>\n",
       "      <td>2396</td>\n",
       "      <td>44467</td>\n",
       "    </tr>\n",
       "    <tr>\n",
       "      <th>1497</th>\n",
       "      <td>1498</td>\n",
       "      <td>42676</td>\n",
       "    </tr>\n",
       "    <tr>\n",
       "      <th>599</th>\n",
       "      <td>600</td>\n",
       "      <td>39729</td>\n",
       "    </tr>\n",
       "    <tr>\n",
       "      <th>1591</th>\n",
       "      <td>1592</td>\n",
       "      <td>34820</td>\n",
       "    </tr>\n",
       "  </tbody>\n",
       "</table>\n",
       "</div>"
      ],
      "text/plain": [
       "      cate_id   count\n",
       "578       579  170074\n",
       "2395     2396   44467\n",
       "1497     1498   42676\n",
       "599       600   39729\n",
       "1591     1592   34820"
      ]
     },
     "execution_count": 39,
     "metadata": {},
     "output_type": "execute_result"
    }
   ],
   "source": [
    "cate_cnt = item.groupby(['cate_id']).size().to_frame('count').reset_index()\n",
    "cate_cnt.sort_values(by=['count'], ascending=False).head(5)"
   ]
  },
  {
   "cell_type": "code",
   "execution_count": null,
   "metadata": {},
   "outputs": [
    {
     "data": {
      "image/png": "[encoded data removed]",
      "text/plain": [
       "<Figure size 864x288 with 1 Axes>"
      ]
     },
     "metadata": {
      "needs_background": "light"
     },
     "output_type": "display_data"
    }
   ],
   "source": [
    "plt.figure(figsize=(12,4))\n",
    "sns.kdeplot(data=cate_cnt[cate_cnt['count']<1000]['count']);"
   ]
  },
  {
   "cell_type": "markdown",
   "metadata": {},
   "source": [
    "我们发现：\n",
    "    * 579品类一花独秀有17W个商品，可能是平台主营方向\n",
    "    * 大部分品类都在100个以上"
   ]
  },
  {
   "cell_type": "markdown",
   "metadata": {},
   "source": [
    "### store_id 店铺编号"
   ]
  },
  {
   "cell_type": "code",
   "execution_count": null,
   "metadata": {},
   "outputs": [
    {
     "name": "stdout",
     "output_type": "stream",
     "text": [
      "商品店铺数 95105\n",
      "训练集店铺数 94970\n",
      "测试集店铺数 94970\n"
     ]
    }
   ],
   "source": [
    "print('商品店铺数', len(item['store_id'].unique()))\n",
    "print('训练集店铺数', len(df[train]['store_id'].unique()))\n",
    "print('测试集店铺数', len(df[train]['store_id'].unique()))"
   ]
  },
  {
   "cell_type": "markdown",
   "metadata": {},
   "source": [
    "#### 店铺下品类数量"
   ]
  },
  {
   "cell_type": "code",
   "execution_count": null,
   "metadata": {},
   "outputs": [
    {
     "data": {
      "text/html": [
       "<div>\n",
       "<style scoped>\n",
       "    .dataframe tbody tr th:only-of-type {\n",
       "        vertical-align: middle;\n",
       "    }\n",
       "\n",
       "    .dataframe tbody tr th {\n",
       "        vertical-align: top;\n",
       "    }\n",
       "\n",
       "    .dataframe thead th {\n",
       "        text-align: right;\n",
       "    }\n",
       "</style>\n",
       "<table border=\"1\" class=\"dataframe\">\n",
       "  <thead>\n",
       "    <tr style=\"text-align: right;\">\n",
       "      <th></th>\n",
       "      <th>store_id</th>\n",
       "      <th>count</th>\n",
       "    </tr>\n",
       "  </thead>\n",
       "  <tbody>\n",
       "    <tr>\n",
       "      <th>0</th>\n",
       "      <td>1</td>\n",
       "      <td>326</td>\n",
       "    </tr>\n",
       "    <tr>\n",
       "      <th>45594</th>\n",
       "      <td>45595</td>\n",
       "      <td>280</td>\n",
       "    </tr>\n",
       "    <tr>\n",
       "      <th>44983</th>\n",
       "      <td>44984</td>\n",
       "      <td>274</td>\n",
       "    </tr>\n",
       "    <tr>\n",
       "      <th>1870</th>\n",
       "      <td>1871</td>\n",
       "      <td>258</td>\n",
       "    </tr>\n",
       "    <tr>\n",
       "      <th>22034</th>\n",
       "      <td>22035</td>\n",
       "      <td>241</td>\n",
       "    </tr>\n",
       "  </tbody>\n",
       "</table>\n",
       "</div>"
      ],
      "text/plain": [
       "       store_id  count\n",
       "0             1    326\n",
       "45594     45595    280\n",
       "44983     44984    274\n",
       "1870       1871    258\n",
       "22034     22035    241"
      ]
     },
     "execution_count": 42,
     "metadata": {},
     "output_type": "execute_result"
    }
   ],
   "source": [
    "store_cate_cnt = item.groupby(['store_id'])['cate_id'].nunique().to_frame('count').reset_index()\n",
    "store_cate_cnt.sort_values(by=['count'], ascending=False).head(5)"
   ]
  },
  {
   "cell_type": "code",
   "execution_count": null,
   "metadata": {},
   "outputs": [],
   "source": [
    "store_cnt_cate_cnt = store_cate_cnt.groupby(['count']).size().reset_index()\n",
    "store_cnt_cate_cnt.columns = ['店铺品类数', '店铺数量']"
   ]
  },
  {
   "cell_type": "code",
   "execution_count": null,
   "metadata": {},
   "outputs": [
    {
     "data": {
      "image/png": "[encoded data removed]",
      "text/plain": [
       "<Figure size 864x288 with 1 Axes>"
      ]
     },
     "metadata": {
      "needs_background": "light"
     },
     "output_type": "display_data"
    }
   ],
   "source": [
    "plt.figure(figsize=(12,4))\n",
    "sns.barplot(x='店铺品类数', y='店铺数量', data=store_cnt_cate_cnt[store_cnt_cate_cnt['店铺品类数']<50], estimator=np.mean);"
   ]
  },
  {
   "cell_type": "markdown",
   "metadata": {},
   "source": [
    "#### 店铺下商品数量"
   ]
  },
  {
   "cell_type": "code",
   "execution_count": null,
   "metadata": {},
   "outputs": [
    {
     "data": {
      "text/html": [
       "<div>\n",
       "<style scoped>\n",
       "    .dataframe tbody tr th:only-of-type {\n",
       "        vertical-align: middle;\n",
       "    }\n",
       "\n",
       "    .dataframe tbody tr th {\n",
       "        vertical-align: top;\n",
       "    }\n",
       "\n",
       "    .dataframe thead th {\n",
       "        text-align: right;\n",
       "    }\n",
       "</style>\n",
       "<table border=\"1\" class=\"dataframe\">\n",
       "  <thead>\n",
       "    <tr style=\"text-align: right;\">\n",
       "      <th></th>\n",
       "      <th>store_id</th>\n",
       "      <th>count</th>\n",
       "    </tr>\n",
       "  </thead>\n",
       "  <tbody>\n",
       "    <tr>\n",
       "      <th>0</th>\n",
       "      <td>1</td>\n",
       "      <td>6911</td>\n",
       "    </tr>\n",
       "    <tr>\n",
       "      <th>68671</th>\n",
       "      <td>68672</td>\n",
       "      <td>2435</td>\n",
       "    </tr>\n",
       "    <tr>\n",
       "      <th>33381</th>\n",
       "      <td>33382</td>\n",
       "      <td>2220</td>\n",
       "    </tr>\n",
       "    <tr>\n",
       "      <th>17544</th>\n",
       "      <td>17545</td>\n",
       "      <td>2053</td>\n",
       "    </tr>\n",
       "    <tr>\n",
       "      <th>82146</th>\n",
       "      <td>82147</td>\n",
       "      <td>2016</td>\n",
       "    </tr>\n",
       "  </tbody>\n",
       "</table>\n",
       "</div>"
      ],
      "text/plain": [
       "       store_id  count\n",
       "0             1   6911\n",
       "68671     68672   2435\n",
       "33381     33382   2220\n",
       "17544     17545   2053\n",
       "82146     82147   2016"
      ]
     },
     "execution_count": 45,
     "metadata": {},
     "output_type": "execute_result"
    }
   ],
   "source": [
    "store_item_cnt = item.groupby(['store_id'])['item_id'].nunique().to_frame('count').reset_index()\n",
    "store_item_cnt.sort_values(by=['count'], ascending=False).head(5)"
   ]
  },
  {
   "cell_type": "code",
   "execution_count": null,
   "metadata": {},
   "outputs": [],
   "source": [
    "store_cnt_item_cnt = store_item_cnt.groupby(['count']).size().reset_index()\n",
    "store_cnt_item_cnt.columns = ['店铺商品数', '店铺数量']"
   ]
  },
  {
   "cell_type": "code",
   "execution_count": null,
   "metadata": {},
   "outputs": [
    {
     "data": {
      "text/html": [
       "<div>\n",
       "<style scoped>\n",
       "    .dataframe tbody tr th:only-of-type {\n",
       "        vertical-align: middle;\n",
       "    }\n",
       "\n",
       "    .dataframe tbody tr th {\n",
       "        vertical-align: top;\n",
       "    }\n",
       "\n",
       "    .dataframe thead th {\n",
       "        text-align: right;\n",
       "    }\n",
       "</style>\n",
       "<table border=\"1\" class=\"dataframe\">\n",
       "  <thead>\n",
       "    <tr style=\"text-align: right;\">\n",
       "      <th></th>\n",
       "      <th>0</th>\n",
       "      <th>1</th>\n",
       "      <th>2</th>\n",
       "      <th>3</th>\n",
       "      <th>4</th>\n",
       "      <th>5</th>\n",
       "      <th>6</th>\n",
       "      <th>7</th>\n",
       "      <th>8</th>\n",
       "      <th>9</th>\n",
       "      <th>10</th>\n",
       "      <th>11</th>\n",
       "      <th>12</th>\n",
       "      <th>13</th>\n",
       "      <th>14</th>\n",
       "      <th>15</th>\n",
       "      <th>16</th>\n",
       "      <th>17</th>\n",
       "      <th>18</th>\n",
       "      <th>19</th>\n",
       "      <th>20</th>\n",
       "      <th>21</th>\n",
       "      <th>22</th>\n",
       "      <th>23</th>\n",
       "      <th>24</th>\n",
       "      <th>25</th>\n",
       "      <th>26</th>\n",
       "      <th>27</th>\n",
       "      <th>28</th>\n",
       "      <th>29</th>\n",
       "      <th>30</th>\n",
       "      <th>31</th>\n",
       "      <th>32</th>\n",
       "      <th>33</th>\n",
       "      <th>34</th>\n",
       "      <th>35</th>\n",
       "      <th>36</th>\n",
       "      <th>37</th>\n",
       "      <th>38</th>\n",
       "      <th>39</th>\n",
       "      <th>40</th>\n",
       "      <th>41</th>\n",
       "      <th>42</th>\n",
       "      <th>43</th>\n",
       "      <th>44</th>\n",
       "      <th>45</th>\n",
       "      <th>46</th>\n",
       "      <th>47</th>\n",
       "      <th>48</th>\n",
       "      <th>49</th>\n",
       "      <th>...</th>\n",
       "      <th>579</th>\n",
       "      <th>580</th>\n",
       "      <th>581</th>\n",
       "      <th>582</th>\n",
       "      <th>583</th>\n",
       "      <th>584</th>\n",
       "      <th>585</th>\n",
       "      <th>586</th>\n",
       "      <th>587</th>\n",
       "      <th>588</th>\n",
       "      <th>589</th>\n",
       "      <th>590</th>\n",
       "      <th>591</th>\n",
       "      <th>592</th>\n",
       "      <th>593</th>\n",
       "      <th>594</th>\n",
       "      <th>595</th>\n",
       "      <th>596</th>\n",
       "      <th>597</th>\n",
       "      <th>598</th>\n",
       "      <th>599</th>\n",
       "      <th>600</th>\n",
       "      <th>601</th>\n",
       "      <th>602</th>\n",
       "      <th>603</th>\n",
       "      <th>604</th>\n",
       "      <th>605</th>\n",
       "      <th>606</th>\n",
       "      <th>607</th>\n",
       "      <th>608</th>\n",
       "      <th>609</th>\n",
       "      <th>610</th>\n",
       "      <th>611</th>\n",
       "      <th>612</th>\n",
       "      <th>613</th>\n",
       "      <th>614</th>\n",
       "      <th>615</th>\n",
       "      <th>616</th>\n",
       "      <th>617</th>\n",
       "      <th>618</th>\n",
       "      <th>619</th>\n",
       "      <th>620</th>\n",
       "      <th>621</th>\n",
       "      <th>622</th>\n",
       "      <th>623</th>\n",
       "      <th>624</th>\n",
       "      <th>625</th>\n",
       "      <th>626</th>\n",
       "      <th>627</th>\n",
       "      <th>628</th>\n",
       "    </tr>\n",
       "  </thead>\n",
       "  <tbody>\n",
       "    <tr>\n",
       "      <th>店铺商品数</th>\n",
       "      <td>1</td>\n",
       "      <td>2</td>\n",
       "      <td>3</td>\n",
       "      <td>4</td>\n",
       "      <td>5</td>\n",
       "      <td>6</td>\n",
       "      <td>7</td>\n",
       "      <td>8</td>\n",
       "      <td>9</td>\n",
       "      <td>10</td>\n",
       "      <td>11</td>\n",
       "      <td>12</td>\n",
       "      <td>13</td>\n",
       "      <td>14</td>\n",
       "      <td>15</td>\n",
       "      <td>16</td>\n",
       "      <td>17</td>\n",
       "      <td>18</td>\n",
       "      <td>19</td>\n",
       "      <td>20</td>\n",
       "      <td>21</td>\n",
       "      <td>22</td>\n",
       "      <td>23</td>\n",
       "      <td>24</td>\n",
       "      <td>25</td>\n",
       "      <td>26</td>\n",
       "      <td>27</td>\n",
       "      <td>28</td>\n",
       "      <td>29</td>\n",
       "      <td>30</td>\n",
       "      <td>31</td>\n",
       "      <td>32</td>\n",
       "      <td>33</td>\n",
       "      <td>34</td>\n",
       "      <td>35</td>\n",
       "      <td>36</td>\n",
       "      <td>37</td>\n",
       "      <td>38</td>\n",
       "      <td>39</td>\n",
       "      <td>40</td>\n",
       "      <td>41</td>\n",
       "      <td>42</td>\n",
       "      <td>43</td>\n",
       "      <td>44</td>\n",
       "      <td>45</td>\n",
       "      <td>46</td>\n",
       "      <td>47</td>\n",
       "      <td>48</td>\n",
       "      <td>49</td>\n",
       "      <td>50</td>\n",
       "      <td>...</td>\n",
       "      <td>747</td>\n",
       "      <td>765</td>\n",
       "      <td>767</td>\n",
       "      <td>771</td>\n",
       "      <td>774</td>\n",
       "      <td>782</td>\n",
       "      <td>797</td>\n",
       "      <td>809</td>\n",
       "      <td>816</td>\n",
       "      <td>834</td>\n",
       "      <td>835</td>\n",
       "      <td>841</td>\n",
       "      <td>842</td>\n",
       "      <td>845</td>\n",
       "      <td>861</td>\n",
       "      <td>871</td>\n",
       "      <td>881</td>\n",
       "      <td>897</td>\n",
       "      <td>910</td>\n",
       "      <td>915</td>\n",
       "      <td>926</td>\n",
       "      <td>955</td>\n",
       "      <td>974</td>\n",
       "      <td>975</td>\n",
       "      <td>991</td>\n",
       "      <td>999</td>\n",
       "      <td>1019</td>\n",
       "      <td>1026</td>\n",
       "      <td>1051</td>\n",
       "      <td>1081</td>\n",
       "      <td>1083</td>\n",
       "      <td>1094</td>\n",
       "      <td>1138</td>\n",
       "      <td>1145</td>\n",
       "      <td>1161</td>\n",
       "      <td>1207</td>\n",
       "      <td>1276</td>\n",
       "      <td>1307</td>\n",
       "      <td>1374</td>\n",
       "      <td>1554</td>\n",
       "      <td>1556</td>\n",
       "      <td>1558</td>\n",
       "      <td>1642</td>\n",
       "      <td>1820</td>\n",
       "      <td>1997</td>\n",
       "      <td>2016</td>\n",
       "      <td>2053</td>\n",
       "      <td>2220</td>\n",
       "      <td>2435</td>\n",
       "      <td>6911</td>\n",
       "    </tr>\n",
       "    <tr>\n",
       "      <th>店铺数量</th>\n",
       "      <td>9129</td>\n",
       "      <td>6897</td>\n",
       "      <td>5593</td>\n",
       "      <td>4879</td>\n",
       "      <td>4206</td>\n",
       "      <td>3698</td>\n",
       "      <td>3374</td>\n",
       "      <td>3050</td>\n",
       "      <td>2773</td>\n",
       "      <td>2486</td>\n",
       "      <td>2251</td>\n",
       "      <td>2030</td>\n",
       "      <td>1966</td>\n",
       "      <td>1799</td>\n",
       "      <td>1673</td>\n",
       "      <td>1478</td>\n",
       "      <td>1437</td>\n",
       "      <td>1293</td>\n",
       "      <td>1246</td>\n",
       "      <td>1219</td>\n",
       "      <td>1171</td>\n",
       "      <td>1059</td>\n",
       "      <td>1044</td>\n",
       "      <td>958</td>\n",
       "      <td>910</td>\n",
       "      <td>885</td>\n",
       "      <td>772</td>\n",
       "      <td>792</td>\n",
       "      <td>709</td>\n",
       "      <td>675</td>\n",
       "      <td>656</td>\n",
       "      <td>626</td>\n",
       "      <td>596</td>\n",
       "      <td>582</td>\n",
       "      <td>538</td>\n",
       "      <td>532</td>\n",
       "      <td>479</td>\n",
       "      <td>456</td>\n",
       "      <td>496</td>\n",
       "      <td>437</td>\n",
       "      <td>441</td>\n",
       "      <td>415</td>\n",
       "      <td>401</td>\n",
       "      <td>383</td>\n",
       "      <td>374</td>\n",
       "      <td>371</td>\n",
       "      <td>330</td>\n",
       "      <td>325</td>\n",
       "      <td>335</td>\n",
       "      <td>306</td>\n",
       "      <td>...</td>\n",
       "      <td>1</td>\n",
       "      <td>1</td>\n",
       "      <td>1</td>\n",
       "      <td>1</td>\n",
       "      <td>1</td>\n",
       "      <td>1</td>\n",
       "      <td>2</td>\n",
       "      <td>1</td>\n",
       "      <td>1</td>\n",
       "      <td>2</td>\n",
       "      <td>1</td>\n",
       "      <td>1</td>\n",
       "      <td>1</td>\n",
       "      <td>1</td>\n",
       "      <td>1</td>\n",
       "      <td>1</td>\n",
       "      <td>1</td>\n",
       "      <td>1</td>\n",
       "      <td>1</td>\n",
       "      <td>1</td>\n",
       "      <td>1</td>\n",
       "      <td>1</td>\n",
       "      <td>1</td>\n",
       "      <td>1</td>\n",
       "      <td>1</td>\n",
       "      <td>1</td>\n",
       "      <td>1</td>\n",
       "      <td>1</td>\n",
       "      <td>1</td>\n",
       "      <td>1</td>\n",
       "      <td>1</td>\n",
       "      <td>1</td>\n",
       "      <td>1</td>\n",
       "      <td>1</td>\n",
       "      <td>1</td>\n",
       "      <td>1</td>\n",
       "      <td>1</td>\n",
       "      <td>1</td>\n",
       "      <td>1</td>\n",
       "      <td>1</td>\n",
       "      <td>1</td>\n",
       "      <td>1</td>\n",
       "      <td>1</td>\n",
       "      <td>1</td>\n",
       "      <td>1</td>\n",
       "      <td>1</td>\n",
       "      <td>1</td>\n",
       "      <td>1</td>\n",
       "      <td>1</td>\n",
       "      <td>1</td>\n",
       "    </tr>\n",
       "  </tbody>\n",
       "</table>\n",
       "<p>2 rows × 629 columns</p>\n",
       "</div>"
      ],
      "text/plain": [
       "        0     1     2     3     4     5     6     7     8     9     10    11   \\\n",
       "店铺商品数     1     2     3     4     5     6     7     8     9    10    11    12   \n",
       "店铺数量   9129  6897  5593  4879  4206  3698  3374  3050  2773  2486  2251  2030   \n",
       "\n",
       "        12    13    14    15    16    17    18    19    20    21    22   23   \\\n",
       "店铺商品数    13    14    15    16    17    18    19    20    21    22    23   24   \n",
       "店铺数量   1966  1799  1673  1478  1437  1293  1246  1219  1171  1059  1044  958   \n",
       "\n",
       "       24   25   26   27   28   29   30   31   32   33   34   35   36   37   \\\n",
       "店铺商品数   25   26   27   28   29   30   31   32   33   34   35   36   37   38   \n",
       "店铺数量   910  885  772  792  709  675  656  626  596  582  538  532  479  456   \n",
       "\n",
       "       38   39   40   41   42   43   44   45   46   47   48   49   ...  579  \\\n",
       "店铺商品数   39   40   41   42   43   44   45   46   47   48   49   50  ...  747   \n",
       "店铺数量   496  437  441  415  401  383  374  371  330  325  335  306  ...    1   \n",
       "\n",
       "       580  581  582  583  584  585  586  587  588  589  590  591  592  593  \\\n",
       "店铺商品数  765  767  771  774  782  797  809  816  834  835  841  842  845  861   \n",
       "店铺数量     1    1    1    1    1    2    1    1    2    1    1    1    1    1   \n",
       "\n",
       "       594  595  596  597  598  599  600  601  602  603  604   605   606  \\\n",
       "店铺商品数  871  881  897  910  915  926  955  974  975  991  999  1019  1026   \n",
       "店铺数量     1    1    1    1    1    1    1    1    1    1    1     1     1   \n",
       "\n",
       "        607   608   609   610   611   612   613   614   615   616   617   618  \\\n",
       "店铺商品数  1051  1081  1083  1094  1138  1145  1161  1207  1276  1307  1374  1554   \n",
       "店铺数量      1     1     1     1     1     1     1     1     1     1     1     1   \n",
       "\n",
       "        619   620   621   622   623   624   625   626   627   628  \n",
       "店铺商品数  1556  1558  1642  1820  1997  2016  2053  2220  2435  6911  \n",
       "店铺数量      1     1     1     1     1     1     1     1     1     1  \n",
       "\n",
       "[2 rows x 629 columns]"
      ]
     },
     "execution_count": 47,
     "metadata": {},
     "output_type": "execute_result"
    }
   ],
   "source": [
    "store_cnt_item_cnt.T"
   ]
  },
  {
   "cell_type": "code",
   "execution_count": null,
   "metadata": {},
   "outputs": [
    {
     "data": {
      "image/png": "[encoded data removed]",
      "text/plain": [
       "<Figure size 1152x288 with 1 Axes>"
      ]
     },
     "metadata": {
      "needs_background": "light"
     },
     "output_type": "display_data"
    }
   ],
   "source": [
    "plt.figure(figsize=(16,4))\n",
    "sns.barplot(x='店铺商品数', y='店铺数量', data=store_cnt_item_cnt[store_cnt_item_cnt['店铺商品数']<80], estimator=np.mean);"
   ]
  },
  {
   "cell_type": "markdown",
   "metadata": {},
   "source": [
    "#### item_price 商品价格"
   ]
  },
  {
   "cell_type": "code",
   "execution_count": null,
   "metadata": {},
   "outputs": [
    {
     "name": "stdout",
     "output_type": "stream",
     "text": [
      "20230 1 1124.0030755446542 400.0\n"
     ]
    }
   ],
   "source": [
    "print(item['item_price'].max(), item['item_price'].min(), item['item_price'].mean(), item['item_price'].median())"
   ]
  },
  {
   "cell_type": "code",
   "execution_count": null,
   "metadata": {},
   "outputs": [
    {
     "data": {
      "image/png": "[encoded data removed]",
      "text/plain": [
       "<Figure size 1152x288 with 2 Axes>"
      ]
     },
     "metadata": {
      "needs_background": "light"
     },
     "output_type": "display_data"
    }
   ],
   "source": [
    "plt.figure(figsize=(16,4))\n",
    "plt.subplot(121)\n",
    "sns.kdeplot(item['item_price'])\n",
    "plt.subplot(122)\n",
    "sns.kdeplot(item['item_price'][item['item_price']<1000]);"
   ]
  },
  {
   "cell_type": "code",
   "execution_count": null,
   "metadata": {},
   "outputs": [
    {
     "data": {
      "text/html": [
       "<div>\n",
       "<style scoped>\n",
       "    .dataframe tbody tr th:only-of-type {\n",
       "        vertical-align: middle;\n",
       "    }\n",
       "\n",
       "    .dataframe tbody tr th {\n",
       "        vertical-align: top;\n",
       "    }\n",
       "\n",
       "    .dataframe thead th {\n",
       "        text-align: right;\n",
       "    }\n",
       "</style>\n",
       "<table border=\"1\" class=\"dataframe\">\n",
       "  <thead>\n",
       "    <tr style=\"text-align: right;\">\n",
       "      <th></th>\n",
       "      <th>item_price</th>\n",
       "      <th>count</th>\n",
       "    </tr>\n",
       "  </thead>\n",
       "  <tbody>\n",
       "    <tr>\n",
       "      <th>199</th>\n",
       "      <td>200</td>\n",
       "      <td>75872</td>\n",
       "    </tr>\n",
       "    <tr>\n",
       "      <th>499</th>\n",
       "      <td>500</td>\n",
       "      <td>61283</td>\n",
       "    </tr>\n",
       "    <tr>\n",
       "      <th>99</th>\n",
       "      <td>100</td>\n",
       "      <td>33826</td>\n",
       "    </tr>\n",
       "    <tr>\n",
       "      <th>399</th>\n",
       "      <td>400</td>\n",
       "      <td>27670</td>\n",
       "    </tr>\n",
       "    <tr>\n",
       "      <th>299</th>\n",
       "      <td>300</td>\n",
       "      <td>26044</td>\n",
       "    </tr>\n",
       "    <tr>\n",
       "      <th>198</th>\n",
       "      <td>199</td>\n",
       "      <td>18032</td>\n",
       "    </tr>\n",
       "    <tr>\n",
       "      <th>999</th>\n",
       "      <td>1000</td>\n",
       "      <td>16739</td>\n",
       "    </tr>\n",
       "    <tr>\n",
       "      <th>699</th>\n",
       "      <td>700</td>\n",
       "      <td>12028</td>\n",
       "    </tr>\n",
       "    <tr>\n",
       "      <th>100</th>\n",
       "      <td>101</td>\n",
       "      <td>11972</td>\n",
       "    </tr>\n",
       "    <tr>\n",
       "      <th>120</th>\n",
       "      <td>121</td>\n",
       "      <td>11833</td>\n",
       "    </tr>\n",
       "  </tbody>\n",
       "</table>\n",
       "</div>"
      ],
      "text/plain": [
       "     item_price  count\n",
       "199         200  75872\n",
       "499         500  61283\n",
       "99          100  33826\n",
       "399         400  27670\n",
       "299         300  26044\n",
       "198         199  18032\n",
       "999        1000  16739\n",
       "699         700  12028\n",
       "100         101  11972\n",
       "120         121  11833"
      ]
     },
     "execution_count": 51,
     "metadata": {},
     "output_type": "execute_result"
    }
   ],
   "source": [
    "price_cnt = item.groupby(['item_price']).size().to_frame('count').reset_index()\n",
    "price_cnt.sort_values(by=['count'], ascending=False).head(10)"
   ]
  },
  {
   "cell_type": "markdown",
   "metadata": {},
   "source": [
    "关于商品价格：商品价格是通过函数转化成了从1开始的整数，最大值为20230，最小值为1。\n",
    "    * 经常对商品价格统计，大部门商品都是整百数，Top5价格200\\500\\100\\400\\300\n",
    "    * TODO：整百商品探查"
   ]
  },
  {
   "cell_type": "markdown",
   "metadata": {},
   "source": [
    "#### 有售商品价格"
   ]
  },
  {
   "cell_type": "code",
   "execution_count": null,
   "metadata": {},
   "outputs": [
    {
     "name": "stdout",
     "output_type": "stream",
     "text": [
      "20230.0 1.0 1103.9060915681803 245.0\n",
      "19907.0 1.0 778.7395852140734 270.0\n"
     ]
    }
   ],
   "source": [
    "print(df[train]['item_price'].max(), df[train]['item_price'].min(), df[train]['item_price'].mean(), df[train]['item_price'].median())\n",
    "print(df[test]['item_price'].max(), df[test]['item_price'].min(), df[test]['item_price'].mean(), df[test]['item_price'].median())"
   ]
  },
  {
   "cell_type": "code",
   "execution_count": null,
   "metadata": {},
   "outputs": [
    {
     "data": {
      "image/png": "[encoded data removed]",
      "text/plain": [
       "<Figure size 864x288 with 1 Axes>"
      ]
     },
     "metadata": {
      "needs_background": "light"
     },
     "output_type": "display_data"
    }
   ],
   "source": [
    "plt.figure(figsize=(12,4))\n",
    "sns.kdeplot(df[train][df[train]['item_price']<1000][['item_id','item_price']].drop_duplicates()['item_price'])\n",
    "sns.kdeplot(df[test][df[test]['item_price']<1000][['item_id','item_price']].drop_duplicates()['item_price']);"
   ]
  },
  {
   "cell_type": "markdown",
   "metadata": {},
   "source": [
    "商品价格与销量"
   ]
  },
  {
   "cell_type": "code",
   "execution_count": null,
   "metadata": {},
   "outputs": [
    {
     "data": {
      "text/html": [
       "<div>\n",
       "<style scoped>\n",
       "    .dataframe tbody tr th:only-of-type {\n",
       "        vertical-align: middle;\n",
       "    }\n",
       "\n",
       "    .dataframe tbody tr th {\n",
       "        vertical-align: top;\n",
       "    }\n",
       "\n",
       "    .dataframe thead th {\n",
       "        text-align: right;\n",
       "    }\n",
       "</style>\n",
       "<table border=\"1\" class=\"dataframe\">\n",
       "  <thead>\n",
       "    <tr style=\"text-align: right;\">\n",
       "      <th></th>\n",
       "      <th>商品数量</th>\n",
       "    </tr>\n",
       "    <tr>\n",
       "      <th>item_price</th>\n",
       "      <th></th>\n",
       "    </tr>\n",
       "  </thead>\n",
       "  <tbody>\n",
       "    <tr>\n",
       "      <th>1.00</th>\n",
       "      <td>266</td>\n",
       "    </tr>\n",
       "    <tr>\n",
       "      <th>2.00</th>\n",
       "      <td>1305</td>\n",
       "    </tr>\n",
       "    <tr>\n",
       "      <th>3.00</th>\n",
       "      <td>204</td>\n",
       "    </tr>\n",
       "    <tr>\n",
       "      <th>4.00</th>\n",
       "      <td>152</td>\n",
       "    </tr>\n",
       "    <tr>\n",
       "      <th>5.00</th>\n",
       "      <td>133</td>\n",
       "    </tr>\n",
       "  </tbody>\n",
       "</table>\n",
       "</div>"
      ],
      "text/plain": [
       "            商品数量\n",
       "item_price      \n",
       "1.00         266\n",
       "2.00        1305\n",
       "3.00         204\n",
       "4.00         152\n",
       "5.00         133"
      ]
     },
     "execution_count": 54,
     "metadata": {},
     "output_type": "execute_result"
    }
   ],
   "source": [
    "df[train].groupby(['item_price'])['item_id'].nunique().to_frame('商品数量').head()"
   ]
  },
  {
   "cell_type": "code",
   "execution_count": null,
   "metadata": {},
   "outputs": [
    {
     "data": {
      "text/html": [
       "<div>\n",
       "<style scoped>\n",
       "    .dataframe tbody tr th:only-of-type {\n",
       "        vertical-align: middle;\n",
       "    }\n",
       "\n",
       "    .dataframe tbody tr th {\n",
       "        vertical-align: top;\n",
       "    }\n",
       "\n",
       "    .dataframe thead th {\n",
       "        text-align: right;\n",
       "    }\n",
       "</style>\n",
       "<table border=\"1\" class=\"dataframe\">\n",
       "  <thead>\n",
       "    <tr style=\"text-align: right;\">\n",
       "      <th></th>\n",
       "      <th></th>\n",
       "      <th></th>\n",
       "      <th>count</th>\n",
       "      <th>count_ratio</th>\n",
       "    </tr>\n",
       "    <tr>\n",
       "      <th>is_train</th>\n",
       "      <th>buyer_country_id</th>\n",
       "      <th>item_price</th>\n",
       "      <th></th>\n",
       "      <th></th>\n",
       "    </tr>\n",
       "  </thead>\n",
       "  <tbody>\n",
       "    <tr>\n",
       "      <th rowspan=\"10\" valign=\"top\">1</th>\n",
       "      <th rowspan=\"5\" valign=\"top\">xx</th>\n",
       "      <th>200.00</th>\n",
       "      <td>404366</td>\n",
       "      <td>0.04</td>\n",
       "    </tr>\n",
       "    <tr>\n",
       "      <th>500.00</th>\n",
       "      <td>201061</td>\n",
       "      <td>0.02</td>\n",
       "    </tr>\n",
       "    <tr>\n",
       "      <th>100.00</th>\n",
       "      <td>186473</td>\n",
       "      <td>0.02</td>\n",
       "    </tr>\n",
       "    <tr>\n",
       "      <th>17844.00</th>\n",
       "      <td>114631</td>\n",
       "      <td>0.01</td>\n",
       "    </tr>\n",
       "    <tr>\n",
       "      <th>121.00</th>\n",
       "      <td>92956</td>\n",
       "      <td>0.01</td>\n",
       "    </tr>\n",
       "    <tr>\n",
       "      <th rowspan=\"5\" valign=\"top\">yy</th>\n",
       "      <th>200.00</th>\n",
       "      <td>82625</td>\n",
       "      <td>0.04</td>\n",
       "    </tr>\n",
       "    <tr>\n",
       "      <th>500.00</th>\n",
       "      <td>48651</td>\n",
       "      <td>0.02</td>\n",
       "    </tr>\n",
       "    <tr>\n",
       "      <th>100.00</th>\n",
       "      <td>38838</td>\n",
       "      <td>0.02</td>\n",
       "    </tr>\n",
       "    <tr>\n",
       "      <th>300.00</th>\n",
       "      <td>27452</td>\n",
       "      <td>0.01</td>\n",
       "    </tr>\n",
       "    <tr>\n",
       "      <th>400.00</th>\n",
       "      <td>24144</td>\n",
       "      <td>0.01</td>\n",
       "    </tr>\n",
       "    <tr>\n",
       "      <th rowspan=\"5\" valign=\"top\">0</th>\n",
       "      <th rowspan=\"5\" valign=\"top\">yy</th>\n",
       "      <th>200.00</th>\n",
       "      <td>6846</td>\n",
       "      <td>0.04</td>\n",
       "    </tr>\n",
       "    <tr>\n",
       "      <th>500.00</th>\n",
       "      <td>3582</td>\n",
       "      <td>0.02</td>\n",
       "    </tr>\n",
       "    <tr>\n",
       "      <th>100.00</th>\n",
       "      <td>3019</td>\n",
       "      <td>0.02</td>\n",
       "    </tr>\n",
       "    <tr>\n",
       "      <th>300.00</th>\n",
       "      <td>2084</td>\n",
       "      <td>0.01</td>\n",
       "    </tr>\n",
       "    <tr>\n",
       "      <th>400.00</th>\n",
       "      <td>1765</td>\n",
       "      <td>0.01</td>\n",
       "    </tr>\n",
       "  </tbody>\n",
       "</table>\n",
       "</div>"
      ],
      "text/plain": [
       "                                       count  count_ratio\n",
       "is_train buyer_country_id item_price                     \n",
       "1        xx               200.00      404366         0.04\n",
       "                          500.00      201061         0.02\n",
       "                          100.00      186473         0.02\n",
       "                          17844.00    114631         0.01\n",
       "                          121.00       92956         0.01\n",
       "         yy               200.00       82625         0.04\n",
       "                          500.00       48651         0.02\n",
       "                          100.00       38838         0.02\n",
       "                          300.00       27452         0.01\n",
       "                          400.00       24144         0.01\n",
       "0        yy               200.00        6846         0.04\n",
       "                          500.00        3582         0.02\n",
       "                          100.00        3019         0.02\n",
       "                          300.00        2084         0.01\n",
       "                          400.00        1765         0.01"
      ]
     },
     "execution_count": 55,
     "metadata": {},
     "output_type": "execute_result"
    }
   ],
   "source": [
    "price_cnt = groupby_cnt_ratio(df, 'item_price')\n",
    "price_cnt.groupby(['is_train', 'buyer_country_id']).head(5)"
   ]
  },
  {
   "cell_type": "markdown",
   "metadata": {},
   "source": [
    "似乎价格与销量并无直接关系\n",
    "    * 但是价格为100、200、300、400、500整百数位居销量榜\n",
    "    * xx国，17844如此高价格的商品销量这么高？"
   ]
  },
  {
   "cell_type": "markdown",
   "metadata": {},
   "source": [
    "### create_order_time 订单日期"
   ]
  },
  {
   "cell_type": "code",
   "execution_count": null,
   "metadata": {},
   "outputs": [
    {
     "name": "stdout",
     "output_type": "stream",
     "text": [
      "2018-07-13 05:54:54 2018-08-31 23:59:57\n",
      "2018-07-17 07:43:40 2018-08-31 23:58:56\n"
     ]
    }
   ],
   "source": [
    "print(df[train]['create_order_time'].min(), df[train]['create_order_time'].max())\n",
    "print(df[test]['create_order_time'].min(), df[test]['create_order_time'].max())"
   ]
  },
  {
   "cell_type": "code",
   "execution_count": null,
   "metadata": {},
   "outputs": [],
   "source": [
    "train_df_seven = df[train][df[train]['create_order_time']<pd.to_datetime('2018-08-01')]\n",
    "train_df_eight = df[train][df[train]['create_order_time']>pd.to_datetime('2018-08-01')]\n",
    "train_df_seven = df[train][df[train]['create_order_time']<pd.to_datetime('2018-08-01')]\n",
    "train_df_eight = df[train][df[train]['create_order_time']>pd.to_datetime('2018-08-01')]"
   ]
  },
  {
   "cell_type": "code",
   "execution_count": null,
   "metadata": {},
   "outputs": [
    {
     "name": "stdout",
     "output_type": "stream",
     "text": [
      "7月数据量 17856 \n",
      "8月数据量 12838990\n"
     ]
    }
   ],
   "source": [
    "print('7月数据量',len(df[train][df[train]['create_order_time']<pd.to_datetime('2018-08-01')]),\n",
    "      '\\n8月数据量',len(df[train][df[train]['create_order_time']>pd.to_datetime('2018-08-02')]))"
   ]
  },
  {
   "cell_type": "code",
   "execution_count": null,
   "metadata": {},
   "outputs": [],
   "source": [
    "date_cnt = groupby_cnt_ratio(df, 'date')\n",
    "date_cnt.columns = ['当天销量', \"占比\"]\n",
    "date_cnt = date_cnt.reset_index()"
   ]
  },
  {
   "cell_type": "code",
   "execution_count": null,
   "metadata": {},
   "outputs": [
    {
     "data": {
      "image/png": "[encoded data removed]",
      "text/plain": [
       "<Figure size 1152x720 with 2 Axes>"
      ]
     },
     "metadata": {
      "needs_background": "light"
     },
     "output_type": "display_data"
    }
   ],
   "source": [
    "fig, ax = plt.subplots(2, 1, figsize=(16,10))\n",
    "sns.lineplot(x='date', y='当天销量', hue='buyer_country_id', data=date_cnt[(date_cnt['is_train']==1)], \n",
    "            estimator=np.mean, ax=ax[0]).set_title('训练集——每日销量');\n",
    "\n",
    "sns.lineplot(x='date', y='当天销量', hue='is_train', data=date_cnt[(date_cnt['buyer_country_id']=='yy')], \n",
    "            estimator=np.mean, ax=ax[1]).set_title('yy国每日销量');"
   ]
  },
  {
   "cell_type": "markdown",
   "metadata": {},
   "source": [
    "很明显：\n",
    "* 训练集中7月份数据远小于8月份数据\n",
    "* 训练集中xx国和yy国每日销量趋势十分相似，且在27日有个波峰"
   ]
  },
  {
   "cell_type": "code",
   "execution_count": null,
   "metadata": {},
   "outputs": [],
   "source": [
    "seven = date_cnt[date_cnt['date']<pd.to_datetime('2018-08-02')]\n",
    "eight = date_cnt[date_cnt['date']>=pd.to_datetime('2018-08-02')]"
   ]
  },
  {
   "cell_type": "code",
   "execution_count": null,
   "metadata": {},
   "outputs": [
    {
     "data": {
      "image/png": "[encoded data removed]",
      "text/plain": [
       "<Figure size 1440x1152 with 6 Axes>"
      ]
     },
     "metadata": {
      "needs_background": "light"
     },
     "output_type": "display_data"
    }
   ],
   "source": [
    "fig, ax = plt.subplots(2, 3, figsize=(20,16))\n",
    "def barplot(ax, df, title):\n",
    "    df['date'] = df['date'].astype(str)\n",
    "    sns.barplot(y='date', x='当天销量' ,data=df, order=sorted(df['date'].unique()), ax=ax, estimator=np.mean)\\\n",
    "    .set_title(title)\n",
    "    \n",
    "barplot(ax[0][0], seven[(seven['is_train']==1) & (seven['buyer_country_id']=='xx')], 'xx国7月份销量')\n",
    "barplot(ax[1][0], eight[(eight['is_train']==1) & (eight['buyer_country_id']=='xx')], 'xx国8月份销量')\n",
    "barplot(ax[0][1], seven[(seven['is_train']==1) & (seven['buyer_country_id']=='yy')], '训练集-yy国7月份销量')\n",
    "barplot(ax[1][1], eight[(eight['is_train']==1) & (eight['buyer_country_id']=='yy')], '训练集-yy国8月份销量')\n",
    "barplot(ax[0][2], seven[(seven['is_train']==0) & (seven['buyer_country_id']=='yy')], '测试集-yy国7月份销量')\n",
    "barplot(ax[1][2], eight[(eight['is_train']==0) & (eight['buyer_country_id']=='yy')], '测试集-yy国8月份销量')\n",
    "plt.tight_layout()"
   ]
  },
  {
   "cell_type": "markdown",
   "metadata": {},
   "source": [
    "数据放大后看：\n",
    "* 训练集和测试集在8月份有相似的波动规律，27号出现波峰，当天剧增数据有待下一步探查"
   ]
  },
  {
   "cell_type": "markdown",
   "metadata": {},
   "source": [
    "#### 每日uv与商品数(去重)"
   ]
  },
  {
   "cell_type": "code",
   "execution_count": null,
   "metadata": {},
   "outputs": [],
   "source": [
    "unique = df.groupby(['is_train', 'buyer_country_id', 'date']).agg({'buyer_admin_id':'nunique','item_id':['nunique','size']})\n",
    "unique.columns = ['uv','商品数(去重)', '销量']\n",
    "unique = unique.reset_index()\n",
    "unique = pd.melt(unique, id_vars=['is_train', 'buyer_country_id', 'date'], value_vars=['uv', '商品数(去重)', '销量'])\n",
    "unique['date'] = unique['date'].astype(str)\n",
    "unique = unique[unique['date']>='2018-08-02']"
   ]
  },
  {
   "cell_type": "code",
   "execution_count": null,
   "metadata": {},
   "outputs": [],
   "source": [
    "fig, ax = plt.subplots(3, 1, figsize=(16,8), sharex=True)\n",
    "sns.lineplot(x='date', y='value', hue='variable', data=unique[(unique['is_train']==1) & (unique['buyer_country_id']=='xx')], \n",
    "             estimator=np.mean, ax=ax[0]).set_title('xx国每日销售数据');\n",
    "\n",
    "sns.lineplot(x='date', y='value', hue='variable', data=unique[(unique['is_train']==0) & (unique['buyer_country_id']=='yy')], \n",
    "            estimator=np.mean, ax=ax[1]).set_title('训练集-yy国每日销量');\n",
    "\n",
    "sns.lineplot(x='date', y='value', hue='variable', data=unique[(unique['is_train']==1) & (unique['buyer_country_id']=='yy')], \n",
    "            estimator=np.mean, ax=ax[2]).set_title('测试集-yy国每日销量')\n",
    "plt.xticks(rotation=90);"
   ]
  },
  {
   "cell_type": "markdown",
   "metadata": {},
   "source": [
    "对每日的uv、商品数和销量作图发现：\n",
    "* 三者基本上呈正相关，xx国的商品单品销量更高"
   ]
  },
  {
   "cell_type": "markdown",
   "metadata": {},
   "source": [
    "# BASELINE\n",
    "选取用户近30次购买记录作为预测值，越近购买的商品放在越靠前的列，不够30次购买记录的用热销商品5595070填充"
   ]
  },
  {
   "cell_type": "code",
   "execution_count": null,
   "metadata": {},
   "outputs": [],
   "source": [
    "test = pd.read_csv('../data/Antai_AE_round1_test_20190626.csv')\n",
    "tmp = test[test['irank']<=31].sort_values(by=['buyer_country_id', 'buyer_admin_id', 'irank'])[['buyer_admin_id','item_id','irank']]\n",
    "sub = tmp.set_index(['buyer_admin_id', 'irank']).unstack(-1)\n",
    "sub.fillna(5595070).astype(int).reset_index().to_csv('../submit/sub.csv', index=False, header=None)"
   ]
  },
  {
   "cell_type": "code",
   "execution_count": null,
   "metadata": {},
   "outputs": [],
   "source": [
    "# 最终提交文件格式\n",
    "sub = pd.read_csv('../submit/sub.csv', header = None)\n",
    "sub.head()"
   ]
  },
  {
   "cell_type": "markdown",
   "metadata": {},
   "source": [
    "# 感谢阅读\n",
    "\n",
    "本文代码已放于[github](https://github.com/RainFung/awesome-visualization/blob/master/Electronic-Commerce/%E8%B7%A8%E5%A2%83%E7%94%B5%E5%95%86%E6%99%BA%E8%83%BD%E7%AE%97%E6%B3%95%E5%A4%A7%E8%B5%9B-%E6%95%B0%E6%8D%AE%E6%8E%A2%E7%B4%A2%E4%B8%8E%E5%8F%AF%E8%A7%86%E5%8C%96.ipynb)与[阿里天池实验室]()\n",
    "\n",
    "\n",
    "欢迎关注作者专栏[数与码](https://zhuanlan.zhihu.com/shuma)，专栏将持续传播数据、算法以及编程相关知识。\n",
    "\n",
    "> [ML理论&实践](https://zhuanlan.zhihu.com/DataAI)\n",
    "\n",
    "> 微信公众号：kaggle竞赛宝典，一个用心分享算法的地方！\n",
    "\n",
    "> QQ群：机器学习kaggle阿里天池 892165076\n",
    "\n",
    "\n",
    "作者才疏学浅，文章中可能出现纰漏，忘读者多多指正交流，感谢支持"
   ]
  }
 ],
 "metadata": {
  "kernelspec": {
   "display_name": "Python3 (PySpark)",
   "language": "python",
   "name": "python3"
  },
  "language_info": {
   "codemirror_mode": {
    "name": "ipython",
    "version": 3
   },
   "file_extension": ".py",
   "mimetype": "text/x-python",
   "name": "python",
   "nbconvert_exporter": "python",
   "pygments_lexer": "ipython3",
   "version": "3.6.7"
  }
 },
 "nbformat": 4,
 "nbformat_minor": 2
}
